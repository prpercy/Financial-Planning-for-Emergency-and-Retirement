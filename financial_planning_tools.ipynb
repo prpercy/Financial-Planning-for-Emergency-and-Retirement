{
 "cells": [
  {
   "cell_type": "markdown",
   "metadata": {},
   "source": [
    "# Financial Planning with APIs and Simulations\n",
    "\n",
    "In this Challenge, you’ll create two financial analysis tools by using a single Jupyter notebook:\n",
    "\n",
    "Part 1: A financial planner for emergencies. The members will be able to use this tool to visualize their current savings. The members can then determine if they have enough reserves for an emergency fund.\n",
    "\n",
    "Part 2: A financial planner for retirement. This tool will forecast the performance of their retirement portfolio in 30 years. To do this, the tool will make an Alpaca API call via the Alpaca SDK to get historical price data for use in Monte Carlo simulations.\n",
    "\n",
    "You’ll use the information from the Monte Carlo simulation to answer questions about the portfolio in your Jupyter notebook.\n",
    "\n"
   ]
  },
  {
   "cell_type": "code",
   "execution_count": 1,
   "metadata": {},
   "outputs": [],
   "source": [
    "# Import the required libraries and dependencies\n",
    "import os\n",
    "import requests\n",
    "import json\n",
    "import pandas as pd\n",
    "from dotenv import load_dotenv\n",
    "import alpaca_trade_api as tradeapi\n",
    "from MCForecastTools import MCSimulation\n",
    "\n",
    "%matplotlib inline"
   ]
  },
  {
   "cell_type": "code",
   "execution_count": 2,
   "metadata": {},
   "outputs": [
    {
     "data": {
      "text/plain": [
       "True"
      ]
     },
     "execution_count": 2,
     "metadata": {},
     "output_type": "execute_result"
    }
   ],
   "source": [
    "# Load the environment variables from the .env file\n",
    "#by calling the load_dotenv function\n",
    "load_dotenv('api.env')"
   ]
  },
  {
   "cell_type": "markdown",
   "metadata": {},
   "source": [
    "## Part 1: Create a Financial Planner for Emergencies"
   ]
  },
  {
   "cell_type": "markdown",
   "metadata": {},
   "source": [
    "### Evaluate the Cryptocurrency Wallet by Using the Requests Library\n",
    "\n",
    "In this section, you’ll determine the current value of a member’s cryptocurrency wallet. You’ll collect the current prices for the Bitcoin and Ethereum cryptocurrencies by using the Python Requests library. For the prototype, you’ll assume that the member holds the 1.2 Bitcoins (BTC) and 5.3 Ethereum coins (ETH). To do all this, complete the following steps:\n",
    "\n",
    "1. Create a variable named `monthly_income`, and set its value to `12000`.\n",
    "\n",
    "2. Use the Requests library to get the current price (in US dollars) of Bitcoin (BTC) and Ethereum (ETH) by using the API endpoints that the starter code supplies.\n",
    "\n",
    "3. Navigate the JSON response object to access the current price of each coin, and store each in a variable.\n",
    "\n",
    "    > **Hint** Note the specific identifier for each cryptocurrency in the API JSON response. The Bitcoin identifier is `1`, and the Ethereum identifier is `1027`.\n",
    "\n",
    "4. Calculate the value, in US dollars, of the current amount of each cryptocurrency and of the entire cryptocurrency wallet.\n",
    "\n"
   ]
  },
  {
   "cell_type": "code",
   "execution_count": 3,
   "metadata": {},
   "outputs": [],
   "source": [
    "# The current number of coins for each cryptocurrency asset held in the portfolio.\n",
    "btc_coins = 1.2\n",
    "eth_coins = 5.3"
   ]
  },
  {
   "cell_type": "markdown",
   "metadata": {},
   "source": [
    "#### Step 1: Create a variable named `monthly_income`, and set its value to `12000`."
   ]
  },
  {
   "cell_type": "code",
   "execution_count": 4,
   "metadata": {},
   "outputs": [],
   "source": [
    "# The monthly amount for the member's household income\n",
    "monthly_income = 12000"
   ]
  },
  {
   "cell_type": "markdown",
   "metadata": {},
   "source": [
    "#### Review the endpoint URLs for the API calls to Free Crypto API in order to get the current pricing information for both BTC and ETH."
   ]
  },
  {
   "cell_type": "code",
   "execution_count": 5,
   "metadata": {},
   "outputs": [],
   "source": [
    "# The Free Crypto API Call endpoint URLs for the held cryptocurrency assets\n",
    "btc_url = \"https://api.alternative.me/v2/ticker/Bitcoin/?convert=USD\"\n",
    "eth_url = \"https://api.alternative.me/v2/ticker/Ethereum/?convert=USD\""
   ]
  },
  {
   "cell_type": "markdown",
   "metadata": {},
   "source": [
    "#### Step 2. Use the Requests library to get the current price (in US dollars) of Bitcoin (BTC) and Ethereum (ETH) by using the API endpoints that the starter code supplied."
   ]
  },
  {
   "cell_type": "code",
   "execution_count": 6,
   "metadata": {},
   "outputs": [
    {
     "name": "stdout",
     "output_type": "stream",
     "text": [
      "{\n",
      "    \"data\": {\n",
      "        \"1\": {\n",
      "            \"circulating_supply\": 19164287,\n",
      "            \"id\": 1,\n",
      "            \"last_updated\": 1664499876,\n",
      "            \"max_supply\": 21000000,\n",
      "            \"name\": \"Bitcoin\",\n",
      "            \"quotes\": {\n",
      "                \"USD\": {\n",
      "                    \"market_cap\": 374681946577,\n",
      "                    \"percent_change_1h\": -0.173744370404089,\n",
      "                    \"percent_change_24h\": 0.235955741689237,\n",
      "                    \"percent_change_7d\": 0.2285550885639,\n",
      "                    \"percentage_change_1h\": -0.173744370404089,\n",
      "                    \"percentage_change_24h\": 0.235955741689237,\n",
      "                    \"percentage_change_7d\": 0.2285550885639,\n",
      "                    \"price\": 19508.81,\n",
      "                    \"volume_24h\": 38579285065\n",
      "                }\n",
      "            },\n",
      "            \"rank\": 1,\n",
      "            \"symbol\": \"BTC\",\n",
      "            \"total_supply\": 19164287,\n",
      "            \"website_slug\": \"bitcoin\"\n",
      "        }\n",
      "    },\n",
      "    \"metadata\": {\n",
      "        \"error\": null,\n",
      "        \"num_cryptocurrencies\": 3116,\n",
      "        \"timestamp\": 1664499876\n",
      "    }\n",
      "}\n"
     ]
    }
   ],
   "source": [
    "# Using the Python requests library, make an API call to access the current price of BTC\n",
    "btc_response = requests.get(btc_url).json()\n",
    "\n",
    "# Use the json.dumps function to review the response data from the API call\n",
    "# Use the indent and sort_keys parameters to make the response object readable\n",
    "print(json.dumps(btc_response, indent=4, sort_keys=True))"
   ]
  },
  {
   "cell_type": "code",
   "execution_count": 7,
   "metadata": {},
   "outputs": [
    {
     "name": "stdout",
     "output_type": "stream",
     "text": [
      "{\n",
      "    \"data\": {\n",
      "        \"1027\": {\n",
      "            \"circulating_supply\": 120737825,\n",
      "            \"id\": 1027,\n",
      "            \"last_updated\": 1664499810,\n",
      "            \"max_supply\": 120737825,\n",
      "            \"name\": \"Ethereum\",\n",
      "            \"quotes\": {\n",
      "                \"USD\": {\n",
      "                    \"market_cap\": 161496252707,\n",
      "                    \"percent_change_1h\": 0.162185388011661,\n",
      "                    \"percent_change_24h\": -0.149763073496103,\n",
      "                    \"percent_change_7d\": 0.381848948292477,\n",
      "                    \"percentage_change_1h\": 0.162185388011661,\n",
      "                    \"percentage_change_24h\": -0.149763073496103,\n",
      "                    \"percentage_change_7d\": 0.381848948292477,\n",
      "                    \"price\": 1335.87,\n",
      "                    \"volume_24h\": 12111444666\n",
      "                }\n",
      "            },\n",
      "            \"rank\": 2,\n",
      "            \"symbol\": \"ETH\",\n",
      "            \"total_supply\": 120737825,\n",
      "            \"website_slug\": \"ethereum\"\n",
      "        }\n",
      "    },\n",
      "    \"metadata\": {\n",
      "        \"error\": null,\n",
      "        \"num_cryptocurrencies\": 3116,\n",
      "        \"timestamp\": 1664499810\n",
      "    }\n",
      "}\n"
     ]
    }
   ],
   "source": [
    "# Using the Python requests library, make an API call to access the current price ETH\n",
    "eth_response = requests.get(eth_url).json()\n",
    "\n",
    "# Use the json.dumps function to review the response data from the API call\n",
    "# Use the indent and sort_keys parameters to make the response object readable\n",
    "print(json.dumps(eth_response, indent=4, sort_keys=True))"
   ]
  },
  {
   "cell_type": "markdown",
   "metadata": {},
   "source": [
    "#### Step 3: Navigate the JSON response object to access the current price of each coin, and store each in a variable."
   ]
  },
  {
   "cell_type": "code",
   "execution_count": 8,
   "metadata": {},
   "outputs": [
    {
     "name": "stdout",
     "output_type": "stream",
     "text": [
      " Current price of BTC is 19508.81\n"
     ]
    }
   ],
   "source": [
    "# Navigate the BTC response object to access the current price of BTC\n",
    "btc_price = btc_response['data']['1']['quotes']['USD']['price']\n",
    "\n",
    "# Print the current price of BTC\n",
    "print(f' Current price of BTC is {btc_price}')"
   ]
  },
  {
   "cell_type": "code",
   "execution_count": 9,
   "metadata": {},
   "outputs": [
    {
     "name": "stdout",
     "output_type": "stream",
     "text": [
      " Current price of ETH is 1335.87\n"
     ]
    }
   ],
   "source": [
    "# Navigate the BTC response object to access the current price of ETH\n",
    "eth_price = eth_response['data']['1027']['quotes']['USD']['price']\n",
    "\n",
    "# Print the current price of ETH\n",
    "print(f' Current price of ETH is {eth_price}')"
   ]
  },
  {
   "cell_type": "markdown",
   "metadata": {},
   "source": [
    "### Step 4: Calculate the value, in US dollars, of the current amount of each cryptocurrency and of the entire cryptocurrency wallet."
   ]
  },
  {
   "cell_type": "code",
   "execution_count": 10,
   "metadata": {},
   "outputs": [
    {
     "name": "stdout",
     "output_type": "stream",
     "text": [
      " Current value of your holding in BTC is 23410.572\n"
     ]
    }
   ],
   "source": [
    "# Compute the current value of the BTC holding \n",
    "btc_value = btc_coins*btc_price\n",
    "\n",
    "# Print current value of your holding in BTC\n",
    "print(f' Current value of your holding in BTC is {btc_value}')"
   ]
  },
  {
   "cell_type": "code",
   "execution_count": 11,
   "metadata": {},
   "outputs": [
    {
     "name": "stdout",
     "output_type": "stream",
     "text": [
      " Current value of your holding in ETH is 7080.110999999999\n"
     ]
    }
   ],
   "source": [
    "# Compute the current value of the ETH holding \n",
    "eth_value = eth_coins*eth_price\n",
    "\n",
    "# Print current value of your holding in ETH\n",
    "print(f' Current value of your holding in ETH is {eth_value}')"
   ]
  },
  {
   "cell_type": "code",
   "execution_count": 12,
   "metadata": {},
   "outputs": [
    {
     "name": "stdout",
     "output_type": "stream",
     "text": [
      " Your current cryptocurrency wallet balance is 30490.682999999997\n"
     ]
    }
   ],
   "source": [
    "# Compute the total value of the cryptocurrency wallet\n",
    "# Add the value of the BTC holding to the value of the ETH holding\n",
    "total_crypto_wallet = btc_value + eth_value\n",
    "\n",
    "# Print current cryptocurrency wallet balance\n",
    "print(f' Your current cryptocurrency wallet balance is {total_crypto_wallet}')"
   ]
  },
  {
   "cell_type": "markdown",
   "metadata": {},
   "source": [
    "### Evaluate the Stock and Bond Holdings by Using the Alpaca SDK\n",
    "\n",
    "In this section, you’ll determine the current value of a member’s stock and bond holdings. You’ll make an API call to Alpaca via the Alpaca SDK to get the current closing prices of the SPDR S&P 500 ETF Trust (ticker: SPY) and of the iShares Core US Aggregate Bond ETF (ticker: AGG). For the prototype, assume that the member holds 110 shares of SPY, which represents the stock portion of their portfolio, and 200 shares of AGG, which represents the bond portion. To do all this, complete the following steps:\n",
    "\n",
    "1. In the `Starter_Code` folder, create an environment file (`.env`) to store the values of your Alpaca API key and Alpaca secret key.\n",
    "\n",
    "2. Set the variables for the Alpaca API and secret keys. Using the Alpaca SDK, create the Alpaca `tradeapi.REST` object. In this object, include the parameters for the Alpaca API key, the secret key, and the version number.\n",
    "\n",
    "3. Set the following parameters for the Alpaca API call:\n",
    "\n",
    "    - `tickers`: Use the tickers for the member’s stock and bond holdings.\n",
    "\n",
    "    - `timeframe`: Use a time frame of one day.\n",
    "\n",
    "    - `start_date` and `end_date`: Use the same date for these parameters, and format them with the date of the previous weekday (or `2020-08-07`). This is because you want the one closing price for the most-recent trading day.\n",
    "\n",
    "4. Get the current closing prices for `SPY` and `AGG` by using the Alpaca `get_bars` function. Format the response as a Pandas DataFrame by including the `df` property at the end of the `get_bars` function.\n",
    "\n",
    "5. Navigating the Alpaca response DataFrame, select the `SPY` and `AGG` closing prices, and store them as variables.\n",
    "\n",
    "6. Calculate the value, in US dollars, of the current amount of shares in each of the stock and bond portions of the portfolio, and print the results.\n"
   ]
  },
  {
   "cell_type": "markdown",
   "metadata": {},
   "source": [
    "#### Review the total number of shares held in both (SPY) and (AGG)."
   ]
  },
  {
   "cell_type": "code",
   "execution_count": 13,
   "metadata": {},
   "outputs": [],
   "source": [
    "# Current amount of shares held in both the stock (SPY) and bond (AGG) portion of the portfolio.\n",
    "spy_shares = 110\n",
    "agg_shares = 200\n"
   ]
  },
  {
   "cell_type": "markdown",
   "metadata": {},
   "source": [
    "#### Step 1: In the `Starter_Code` folder, create an environment file (`.env`) to store the values of your Alpaca API key and Alpaca secret key."
   ]
  },
  {
   "cell_type": "markdown",
   "metadata": {},
   "source": [
    "#### Step 2: Set the variables for the Alpaca API and secret keys. Using the Alpaca SDK, create the Alpaca `tradeapi.REST` object. In this object, include the parameters for the Alpaca API key, the secret key, and the version number."
   ]
  },
  {
   "cell_type": "code",
   "execution_count": 14,
   "metadata": {},
   "outputs": [
    {
     "data": {
      "text/plain": [
       "str"
      ]
     },
     "metadata": {},
     "output_type": "display_data"
    },
    {
     "data": {
      "text/plain": [
       "str"
      ]
     },
     "metadata": {},
     "output_type": "display_data"
    }
   ],
   "source": [
    "# Set the variables for the Alpaca API and secret keys\n",
    "alpaca_api_key = os.getenv('ALPACA_API_KEY')\n",
    "alpaca_secret_key = os.getenv('ALPACA_SECRET_KEY')\n",
    "display(type(alpaca_api_key))\n",
    "display(type(alpaca_secret_key))\n",
    "\n",
    "# Create the Alpaca tradeapi.REST object\n",
    "alpaca = tradeapi.REST(\n",
    "    alpaca_api_key,\n",
    "    alpaca_secret_key,\n",
    "    api_version='v2'\n",
    ")\n"
   ]
  },
  {
   "cell_type": "markdown",
   "metadata": {},
   "source": [
    "#### Step 3: Set the following parameters for the Alpaca API call:\n",
    "\n",
    "- `tickers`: Use the tickers for the member’s stock and bond holdings.\n",
    "\n",
    "- `timeframe`: Use a time frame of one day.\n",
    "\n",
    "- `start_date` and `end_date`: Use the same date for these parameters, and format them with the date of the previous weekday (or `2020-08-07`). This is because you want the one closing price for the most-recent trading day.\n"
   ]
  },
  {
   "cell_type": "code",
   "execution_count": 15,
   "metadata": {},
   "outputs": [],
   "source": [
    "# Set the tickers for both the bond and stock portion of the portfolio\n",
    "tickers = ['SPY', 'AGG']\n",
    "\n",
    "# Set timeframe to 1Day\n",
    "timeframe='1Day'\n",
    "\n",
    "# Format current date as ISO format\n",
    "# Set both the start and end date at the date of your prior weekday \n",
    "# This will give you the closing price of the previous trading day\n",
    "# Alternatively you can use a start and end date of 2020-08-07\n",
    "start_date = pd.Timestamp('2022-09-28', tz='America/New_York').isoformat()\n",
    "end_date = pd.Timestamp('2022-09-28', tz='America/New_York').isoformat()\n"
   ]
  },
  {
   "cell_type": "markdown",
   "metadata": {},
   "source": [
    "#### Step 4: Get the current closing prices for `SPY` and `AGG` by using the Alpaca `get_bars` function. Format the response as a Pandas DataFrame by including the `df` property at the end of the `get_bars` function."
   ]
  },
  {
   "cell_type": "code",
   "execution_count": 16,
   "metadata": {},
   "outputs": [
    {
     "data": {
      "text/html": [
       "<div>\n",
       "<style scoped>\n",
       "    .dataframe tbody tr th:only-of-type {\n",
       "        vertical-align: middle;\n",
       "    }\n",
       "\n",
       "    .dataframe tbody tr th {\n",
       "        vertical-align: top;\n",
       "    }\n",
       "\n",
       "    .dataframe thead tr th {\n",
       "        text-align: left;\n",
       "    }\n",
       "\n",
       "    .dataframe thead tr:last-of-type th {\n",
       "        text-align: right;\n",
       "    }\n",
       "</style>\n",
       "<table border=\"1\" class=\"dataframe\">\n",
       "  <thead>\n",
       "    <tr>\n",
       "      <th></th>\n",
       "      <th colspan=\"7\" halign=\"left\">SPY</th>\n",
       "      <th colspan=\"7\" halign=\"left\">AGG</th>\n",
       "    </tr>\n",
       "    <tr>\n",
       "      <th></th>\n",
       "      <th>open</th>\n",
       "      <th>high</th>\n",
       "      <th>low</th>\n",
       "      <th>close</th>\n",
       "      <th>volume</th>\n",
       "      <th>trade_count</th>\n",
       "      <th>vwap</th>\n",
       "      <th>open</th>\n",
       "      <th>high</th>\n",
       "      <th>low</th>\n",
       "      <th>close</th>\n",
       "      <th>volume</th>\n",
       "      <th>trade_count</th>\n",
       "      <th>vwap</th>\n",
       "    </tr>\n",
       "    <tr>\n",
       "      <th>timestamp</th>\n",
       "      <th></th>\n",
       "      <th></th>\n",
       "      <th></th>\n",
       "      <th></th>\n",
       "      <th></th>\n",
       "      <th></th>\n",
       "      <th></th>\n",
       "      <th></th>\n",
       "      <th></th>\n",
       "      <th></th>\n",
       "      <th></th>\n",
       "      <th></th>\n",
       "      <th></th>\n",
       "      <th></th>\n",
       "    </tr>\n",
       "  </thead>\n",
       "  <tbody>\n",
       "    <tr>\n",
       "      <th>2022-09-28 04:00:00+00:00</th>\n",
       "      <td>364.44</td>\n",
       "      <td>372.3</td>\n",
       "      <td>362.6</td>\n",
       "      <td>370.53</td>\n",
       "      <td>109578062</td>\n",
       "      <td>704940</td>\n",
       "      <td>367.937105</td>\n",
       "      <td>96.47</td>\n",
       "      <td>97.1277</td>\n",
       "      <td>96.27</td>\n",
       "      <td>97.08</td>\n",
       "      <td>10530370</td>\n",
       "      <td>38055</td>\n",
       "      <td>96.834989</td>\n",
       "    </tr>\n",
       "  </tbody>\n",
       "</table>\n",
       "</div>"
      ],
      "text/plain": [
       "                              SPY                                   \\\n",
       "                             open   high    low   close     volume   \n",
       "timestamp                                                            \n",
       "2022-09-28 04:00:00+00:00  364.44  372.3  362.6  370.53  109578062   \n",
       "\n",
       "                                                     AGG                  \\\n",
       "                          trade_count        vwap   open     high    low   \n",
       "timestamp                                                                  \n",
       "2022-09-28 04:00:00+00:00      704940  367.937105  96.47  97.1277  96.27   \n",
       "\n",
       "                                                                   \n",
       "                           close    volume trade_count       vwap  \n",
       "timestamp                                                          \n",
       "2022-09-28 04:00:00+00:00  97.08  10530370       38055  96.834989  "
      ]
     },
     "execution_count": 16,
     "metadata": {},
     "output_type": "execute_result"
    }
   ],
   "source": [
    "# Use the Alpaca get_bars function to get current closing prices the portfolio\n",
    "# Be sure to set the `df` property after the function to format the response object as a DataFrame\n",
    "prices_df = alpaca.get_bars(\n",
    "    tickers,\n",
    "    timeframe,\n",
    "    start=start_date,\n",
    "    end=end_date\n",
    ").df\n",
    "\n",
    "# Reorganize the DataFrame\n",
    "# Separate ticker data\n",
    "ticker_data = []\n",
    "for ticker in tickers:\n",
    "    ticker_data.append(prices_df[prices_df['symbol']==ticker].drop('symbol', axis=1))\n",
    "\n",
    "# Concatenate the ticker DataFrames\n",
    "portfolio_data = pd.concat(ticker_data, axis=1, keys=tickers)\n",
    "\n",
    "# Review the first 5 rows of the Alpaca DataFrame\n",
    "# YOUR CODE HERE\n",
    "portfolio_data.head()"
   ]
  },
  {
   "cell_type": "markdown",
   "metadata": {},
   "source": [
    "#### Step 5: Navigating the Alpaca response DataFrame, select the `SPY` and `AGG` closing prices, and store them as variables."
   ]
  },
  {
   "cell_type": "code",
   "execution_count": 17,
   "metadata": {},
   "outputs": [
    {
     "name": "stdout",
     "output_type": "stream",
     "text": [
      " AGG Closing price is 97.08\n"
     ]
    }
   ],
   "source": [
    "# Access the closing price for AGG from the Alpaca DataFrame\n",
    "# Converting the value to a floating point number\n",
    "agg_close_price = float(portfolio_data['AGG']['close'])\n",
    "\n",
    "# Print the AGG closing price\n",
    "print(f' AGG Closing price is {agg_close_price}')\n"
   ]
  },
  {
   "cell_type": "code",
   "execution_count": 18,
   "metadata": {},
   "outputs": [
    {
     "name": "stdout",
     "output_type": "stream",
     "text": [
      " SPY Closing price is 370.53\n"
     ]
    }
   ],
   "source": [
    "# Access the closing price for SPY from the Alpaca DataFrame\n",
    "# Converting the value to a floating point number\n",
    "spy_close_price = float(portfolio_data['SPY']['close'])\n",
    "\n",
    "# Print the SPY closing price\n",
    "print(f' SPY Closing price is {spy_close_price}')\n"
   ]
  },
  {
   "cell_type": "markdown",
   "metadata": {},
   "source": [
    "#### Step 6: Calculate the value, in US dollars, of the current amount of shares in each of the stock and bond portions of the portfolio, and print the results."
   ]
  },
  {
   "cell_type": "code",
   "execution_count": 19,
   "metadata": {},
   "outputs": [
    {
     "name": "stdout",
     "output_type": "stream",
     "text": [
      " Current value of the bond portfolio is  19416.00\n"
     ]
    }
   ],
   "source": [
    "# Calculate the current value of the bond portion of the portfolio\n",
    "agg_value = agg_shares*agg_close_price\n",
    "\n",
    "# Print the current value of the bond portfolio\n",
    "print(f' Current value of the bond portfolio is {agg_value: .2f}')\n"
   ]
  },
  {
   "cell_type": "code",
   "execution_count": 20,
   "metadata": {},
   "outputs": [
    {
     "name": "stdout",
     "output_type": "stream",
     "text": [
      " Current value of the stock portfolio is  40758.30\n"
     ]
    }
   ],
   "source": [
    "# Calculate the current value of the stock portion of the portfolio\n",
    "spy_value = spy_shares*spy_close_price\n",
    "\n",
    "# Print the current value of the stock portfolio\n",
    "print(f' Current value of the stock portfolio is {spy_value: .2f}')\n"
   ]
  },
  {
   "cell_type": "code",
   "execution_count": 21,
   "metadata": {},
   "outputs": [
    {
     "name": "stdout",
     "output_type": "stream",
     "text": [
      " Current balance of the stock and bond portion of the portfolio is  60174.30\n"
     ]
    }
   ],
   "source": [
    "# Calculate the total value of the stock and bond portion of the portfolio\n",
    "total_stocks_bonds = agg_value + spy_value\n",
    "\n",
    "# Print the current balance of the stock and bond portion of the portfolio\n",
    "print(f' Current balance of the stock and bond portion of the portfolio is {total_stocks_bonds: .2f}')\n"
   ]
  },
  {
   "cell_type": "code",
   "execution_count": 22,
   "metadata": {},
   "outputs": [
    {
     "name": "stdout",
     "output_type": "stream",
     "text": [
      " Current balance of the entire portfolio incl. stock, bond and crypto wallet is  90664.98\n"
     ]
    }
   ],
   "source": [
    "# Calculate the total value of the member's entire savings portfolio\n",
    "# Add the value of the cryptocurrency walled to the value of the total stocks and bonds\n",
    "total_portfolio = total_stocks_bonds + total_crypto_wallet\n",
    "\n",
    "# Print current portfolio balance\n",
    "print(f' Current balance of the entire portfolio incl. stock, bond and crypto wallet is {total_portfolio: .2f}')\n"
   ]
  },
  {
   "cell_type": "markdown",
   "metadata": {},
   "source": [
    "### Evaluate the Emergency Fund\n",
    "\n",
    "In this section, you’ll use the valuations for the cryptocurrency wallet and for the stock and bond portions of the portfolio to determine if the credit union member has enough savings to build an emergency fund into their financial plan. To do this, complete the following steps:\n",
    "\n",
    "1. Create a Python list named `savings_data` that has two elements. The first element contains the total value of the cryptocurrency wallet. The second element contains the total value of the stock and bond portions of the portfolio.\n",
    "\n",
    "2. Use the `savings_data` list to create a Pandas DataFrame named `savings_df`, and then display this DataFrame. The function to create the DataFrame should take the following three parameters:\n",
    "\n",
    "    - `savings_data`: Use the list that you just created.\n",
    "\n",
    "    - `columns`: Set this parameter equal to a Python list with a single value called `amount`.\n",
    "\n",
    "    - `index`: Set this parameter equal to a Python list with the values of `crypto` and `stock/bond`.\n",
    "\n",
    "3. Use the `savings_df` DataFrame to plot a pie chart that visualizes the composition of the member’s portfolio. The y-axis of the pie chart uses `amount`. Be sure to add a title.\n",
    "\n",
    "4. Using Python, determine if the current portfolio has enough to create an emergency fund as part of the member’s financial plan. Ideally, an emergency fund should equal to three times the member’s monthly income. To do this, implement the following steps:\n",
    "\n",
    "    1. Create a variable named `emergency_fund_value`, and set it equal to three times the value of the member’s `monthly_income` of $12000. (You set this earlier in Part 1).\n",
    "\n",
    "    2. Create a series of three if statements to determine if the member’s total portfolio is large enough to fund the emergency portfolio:\n",
    "\n",
    "        1. If the total portfolio value is greater than the emergency fund value, display a message congratulating the member for having enough money in this fund.\n",
    "\n",
    "        2. Else if the total portfolio value is equal to the emergency fund value, display a message congratulating the member on reaching this important financial goal.\n",
    "\n",
    "        3. Else the total portfolio is less than the emergency fund value, so display a message showing how many dollars away the member is from reaching the goal. (Subtract the total portfolio value from the emergency fund value.)\n"
   ]
  },
  {
   "cell_type": "markdown",
   "metadata": {},
   "source": [
    "#### Step 1: Create a Python list named `savings_data` that has two elements. The first element contains the total value of the cryptocurrency wallet. The second element contains the total value of the stock and bond portions of the portfolio."
   ]
  },
  {
   "cell_type": "code",
   "execution_count": 23,
   "metadata": {},
   "outputs": [
    {
     "data": {
      "text/plain": [
       "[30490.682999999997, 60174.299999999996]"
      ]
     },
     "metadata": {},
     "output_type": "display_data"
    }
   ],
   "source": [
    "# Consolidate financial assets data into a Python list\n",
    "savings_data = [total_crypto_wallet, total_stocks_bonds]\n",
    "\n",
    "# Review the Python list savings_data\n",
    "display(savings_data)\n",
    "    "
   ]
  },
  {
   "cell_type": "markdown",
   "metadata": {},
   "source": [
    "#### Step 2: Use the `savings_data` list to create a Pandas DataFrame named `savings_df`, and then display this DataFrame. The function to create the DataFrame should take the following three parameters:\n",
    "\n",
    "- `savings_data`: Use the list that you just created.\n",
    "\n",
    "- `columns`: Set this parameter equal to a Python list with a single value called `amount`.\n",
    "\n",
    "- `index`: Set this parameter equal to a Python list with the values of `crypto` and `stock/bond`.\n"
   ]
  },
  {
   "cell_type": "code",
   "execution_count": 24,
   "metadata": {},
   "outputs": [
    {
     "data": {
      "text/html": [
       "<div>\n",
       "<style scoped>\n",
       "    .dataframe tbody tr th:only-of-type {\n",
       "        vertical-align: middle;\n",
       "    }\n",
       "\n",
       "    .dataframe tbody tr th {\n",
       "        vertical-align: top;\n",
       "    }\n",
       "\n",
       "    .dataframe thead th {\n",
       "        text-align: right;\n",
       "    }\n",
       "</style>\n",
       "<table border=\"1\" class=\"dataframe\">\n",
       "  <thead>\n",
       "    <tr style=\"text-align: right;\">\n",
       "      <th></th>\n",
       "      <th>amount</th>\n",
       "    </tr>\n",
       "  </thead>\n",
       "  <tbody>\n",
       "    <tr>\n",
       "      <th>crypto</th>\n",
       "      <td>30490.683</td>\n",
       "    </tr>\n",
       "    <tr>\n",
       "      <th>stock/bond</th>\n",
       "      <td>60174.300</td>\n",
       "    </tr>\n",
       "  </tbody>\n",
       "</table>\n",
       "</div>"
      ],
      "text/plain": [
       "               amount\n",
       "crypto      30490.683\n",
       "stock/bond  60174.300"
      ]
     },
     "execution_count": 24,
     "metadata": {},
     "output_type": "execute_result"
    }
   ],
   "source": [
    "# Create a Pandas DataFrame called savings_df \n",
    "savings_df = pd.DataFrame(\n",
    "    data=savings_data, \n",
    "    index=['crypto', 'stock/bond'],\n",
    "    columns=['amount']    \n",
    ")\n",
    "\n",
    "# Display the savings_df DataFrame\n",
    "savings_df.head()\n"
   ]
  },
  {
   "cell_type": "markdown",
   "metadata": {},
   "source": [
    "#### Step 3: Use the `savings_df` DataFrame to plot a pie chart that visualizes the composition of the member’s portfolio. The y-axis of the pie chart uses `amount`. Be sure to add a title."
   ]
  },
  {
   "cell_type": "code",
   "execution_count": 27,
   "metadata": {},
   "outputs": [
    {
     "data": {
      "text/plain": [
       "<AxesSubplot:title={'center':'Composition of member portfolio'}, ylabel='amount'>"
      ]
     },
     "execution_count": 27,
     "metadata": {},
     "output_type": "execute_result"
    },
    {
     "data": {
      "image/png": "[encoded data removed]",
      "text/plain": [
       "<Figure size 864x576 with 1 Axes>"
      ]
     },
     "metadata": {},
     "output_type": "display_data"
    }
   ],
   "source": [
    "# Plot the total value of the member's portfolio (crypto and stock/bond) in a pie chart\n",
    "savings_df.plot.pie(y='amount', title='Composition of member portfolio', figsize=(12,8))\n"
   ]
  },
  {
   "cell_type": "markdown",
   "metadata": {},
   "source": [
    "#### Step 4: Using Python, determine if the current portfolio has enough to create an emergency fund as part of the member’s financial plan. Ideally, an emergency fund should equal to three times the member’s monthly income. To do this, implement the following steps:\n",
    "\n",
    "Step 1. Create a variable named `emergency_fund_value`, and set it equal to three times the value of the member’s `monthly_income` of 12000. (You set this earlier in Part 1).\n",
    "\n",
    "Step 2. Create a series of three if statements to determine if the member’s total portfolio is large enough to fund the emergency portfolio:\n",
    "\n",
    "* If the total portfolio value is greater than the emergency fund value, display a message congratulating the member for having enough money in this fund.\n",
    "\n",
    "* Else if the total portfolio value is equal to the emergency fund value, display a message congratulating the member on reaching this important financial goal.\n",
    "\n",
    "* Else the total portfolio is less than the emergency fund value, so display a message showing how many dollars away the member is from reaching the goal. (Subtract the total portfolio value from the emergency fund value.)\n"
   ]
  },
  {
   "cell_type": "markdown",
   "metadata": {},
   "source": [
    "##### Step 4-1: Create a variable named `emergency_fund_value`, and set it equal to three times the value of the member’s `monthly_income` of 12000. (You set this earlier in Part 1)."
   ]
  },
  {
   "cell_type": "code",
   "execution_count": 67,
   "metadata": {},
   "outputs": [
    {
     "name": "stdout",
     "output_type": "stream",
     "text": [
      " Emergency Fund value is $36000\n"
     ]
    }
   ],
   "source": [
    "# Create a variable named emergency_fund_value\n",
    "emergency_fund_value = 3*monthly_income\n",
    "print(f' Emergency Fund value is ${emergency_fund_value}')"
   ]
  },
  {
   "cell_type": "markdown",
   "metadata": {},
   "source": [
    "##### Step 4-2: Create a series of three if statements to determine if the member’s total portfolio is large enough to fund the emergency portfolio:\n",
    "\n",
    "* If the total portfolio value is greater than the emergency fund value, display a message congratulating the member for having enough money in this fund.\n",
    "\n",
    "* Else if the total portfolio value is equal to the emergency fund value, display a message congratulating the member on reaching this important financial goal.\n",
    "\n",
    "* Else the total portfolio is less than the emergency fund value, so display a message showing how many dollars away the member is from reaching the goal. (Subtract the total portfolio value from the emergency fund value.)"
   ]
  },
  {
   "cell_type": "code",
   "execution_count": 30,
   "metadata": {},
   "outputs": [
    {
     "name": "stdout",
     "output_type": "stream",
     "text": [
      " Congratulations, you have excess of $54664.98 in your fund\n"
     ]
    }
   ],
   "source": [
    "# Evaluate the possibility of creating an emergency fund with 3 conditions:\n",
    "if total_portfolio > emergency_fund_value :\n",
    "    print(f' Congratulations, you have excess of ${(total_portfolio - emergency_fund_value):.2f} in your fund')\n",
    "elif total_portfolio == emergency_fund_value :\n",
    "    print('Congratulations. You have reached an important financial goal. Your fund as enough money to support emergency')\n",
    "else :\n",
    "    print(f'Unfortunately you are short of ${emergency_fund_value - total_portfolio} in your fund')"
   ]
  },
  {
   "cell_type": "markdown",
   "metadata": {},
   "source": [
    "## Part 2: Create a Financial Planner for Retirement"
   ]
  },
  {
   "cell_type": "markdown",
   "metadata": {},
   "source": [
    "### Create the Monte Carlo Simulation\n",
    "\n",
    "In this section, you’ll use the MCForecastTools library to create a Monte Carlo simulation for the member’s savings portfolio. To do this, complete the following steps:\n",
    "\n",
    "1. Make an API call via the Alpaca SDK to get 3 years of historical closing prices for a traditional 60/40 portfolio split: 60% stocks (SPY) and 40% bonds (AGG).\n",
    "\n",
    "2. Run a Monte Carlo simulation of 500 samples and 30 years for the 60/40 portfolio, and then plot the results.The following image shows the overlay line plot resulting from a simulation with these characteristics. However, because a random number generator is used to run each live Monte Carlo simulation, your image will differ slightly from this exact image:\n",
    "\n",
    "![A screenshot depicts the resulting plot.](Images/5-4-monte-carlo-line-plot.png)\n",
    "\n",
    "3. Plot the probability distribution of the Monte Carlo simulation. Plot the probability distribution of the Monte Carlo simulation. The following image shows the histogram plot resulting from a simulation with these characteristics. However, because a random number generator is used to run each live Monte Carlo simulation, your image will differ slightly from this exact image:\n",
    "\n",
    "![A screenshot depicts the histogram plot.](Images/5-4-monte-carlo-histogram.png)\n",
    "\n",
    "4. Generate the summary statistics for the Monte Carlo simulation.\n",
    "\n"
   ]
  },
  {
   "cell_type": "markdown",
   "metadata": {},
   "source": [
    "#### Step 1: Make an API call via the Alpaca SDK to get 3 years of historical closing prices for a traditional 60/40 portfolio split: 60% stocks (SPY) and 40% bonds (AGG)."
   ]
  },
  {
   "cell_type": "code",
   "execution_count": 31,
   "metadata": {},
   "outputs": [],
   "source": [
    "# Set start and end dates of 3 years back from your current date\n",
    "# Alternatively, you can use an end date of 2020-08-07 and work 3 years back from that date \n",
    "start_date = pd.Timestamp('2019-09-28', tz='America/New_York').isoformat()\n",
    "end_date = pd.Timestamp('2022-09-28', tz='America/New_York').isoformat()"
   ]
  },
  {
   "cell_type": "code",
   "execution_count": 32,
   "metadata": {},
   "outputs": [
    {
     "data": {
      "text/html": [
       "<div>\n",
       "<style scoped>\n",
       "    .dataframe tbody tr th:only-of-type {\n",
       "        vertical-align: middle;\n",
       "    }\n",
       "\n",
       "    .dataframe tbody tr th {\n",
       "        vertical-align: top;\n",
       "    }\n",
       "\n",
       "    .dataframe thead tr th {\n",
       "        text-align: left;\n",
       "    }\n",
       "\n",
       "    .dataframe thead tr:last-of-type th {\n",
       "        text-align: right;\n",
       "    }\n",
       "</style>\n",
       "<table border=\"1\" class=\"dataframe\">\n",
       "  <thead>\n",
       "    <tr>\n",
       "      <th></th>\n",
       "      <th colspan=\"7\" halign=\"left\">SPY</th>\n",
       "      <th colspan=\"7\" halign=\"left\">AGG</th>\n",
       "    </tr>\n",
       "    <tr>\n",
       "      <th></th>\n",
       "      <th>open</th>\n",
       "      <th>high</th>\n",
       "      <th>low</th>\n",
       "      <th>close</th>\n",
       "      <th>volume</th>\n",
       "      <th>trade_count</th>\n",
       "      <th>vwap</th>\n",
       "      <th>open</th>\n",
       "      <th>high</th>\n",
       "      <th>low</th>\n",
       "      <th>close</th>\n",
       "      <th>volume</th>\n",
       "      <th>trade_count</th>\n",
       "      <th>vwap</th>\n",
       "    </tr>\n",
       "    <tr>\n",
       "      <th>timestamp</th>\n",
       "      <th></th>\n",
       "      <th></th>\n",
       "      <th></th>\n",
       "      <th></th>\n",
       "      <th></th>\n",
       "      <th></th>\n",
       "      <th></th>\n",
       "      <th></th>\n",
       "      <th></th>\n",
       "      <th></th>\n",
       "      <th></th>\n",
       "      <th></th>\n",
       "      <th></th>\n",
       "      <th></th>\n",
       "    </tr>\n",
       "  </thead>\n",
       "  <tbody>\n",
       "    <tr>\n",
       "      <th>2019-09-30 04:00:00+00:00</th>\n",
       "      <td>295.98</td>\n",
       "      <td>297.550</td>\n",
       "      <td>295.92</td>\n",
       "      <td>296.77</td>\n",
       "      <td>52771311</td>\n",
       "      <td>258680</td>\n",
       "      <td>296.786007</td>\n",
       "      <td>112.93</td>\n",
       "      <td>113.2700</td>\n",
       "      <td>112.92</td>\n",
       "      <td>113.17</td>\n",
       "      <td>6638203</td>\n",
       "      <td>20269</td>\n",
       "      <td>113.172636</td>\n",
       "    </tr>\n",
       "    <tr>\n",
       "      <th>2019-10-01 04:00:00+00:00</th>\n",
       "      <td>297.67</td>\n",
       "      <td>298.455</td>\n",
       "      <td>293.00</td>\n",
       "      <td>293.24</td>\n",
       "      <td>90160482</td>\n",
       "      <td>422407</td>\n",
       "      <td>294.867498</td>\n",
       "      <td>112.71</td>\n",
       "      <td>113.2500</td>\n",
       "      <td>112.63</td>\n",
       "      <td>113.12</td>\n",
       "      <td>5982470</td>\n",
       "      <td>30567</td>\n",
       "      <td>113.081002</td>\n",
       "    </tr>\n",
       "    <tr>\n",
       "      <th>2019-10-02 04:00:00+00:00</th>\n",
       "      <td>291.49</td>\n",
       "      <td>291.510</td>\n",
       "      <td>286.64</td>\n",
       "      <td>288.06</td>\n",
       "      <td>125924074</td>\n",
       "      <td>608988</td>\n",
       "      <td>288.821147</td>\n",
       "      <td>113.19</td>\n",
       "      <td>113.3075</td>\n",
       "      <td>113.09</td>\n",
       "      <td>113.20</td>\n",
       "      <td>9571687</td>\n",
       "      <td>23424</td>\n",
       "      <td>113.229809</td>\n",
       "    </tr>\n",
       "    <tr>\n",
       "      <th>2019-10-03 04:00:00+00:00</th>\n",
       "      <td>287.81</td>\n",
       "      <td>290.450</td>\n",
       "      <td>284.82</td>\n",
       "      <td>290.42</td>\n",
       "      <td>85906608</td>\n",
       "      <td>517842</td>\n",
       "      <td>288.281946</td>\n",
       "      <td>113.34</td>\n",
       "      <td>113.7400</td>\n",
       "      <td>113.32</td>\n",
       "      <td>113.64</td>\n",
       "      <td>5144049</td>\n",
       "      <td>18028</td>\n",
       "      <td>113.589201</td>\n",
       "    </tr>\n",
       "    <tr>\n",
       "      <th>2019-10-04 04:00:00+00:00</th>\n",
       "      <td>291.21</td>\n",
       "      <td>294.630</td>\n",
       "      <td>290.82</td>\n",
       "      <td>294.35</td>\n",
       "      <td>66877330</td>\n",
       "      <td>305209</td>\n",
       "      <td>292.978205</td>\n",
       "      <td>113.68</td>\n",
       "      <td>113.8255</td>\n",
       "      <td>113.63</td>\n",
       "      <td>113.82</td>\n",
       "      <td>3331180</td>\n",
       "      <td>14511</td>\n",
       "      <td>113.742441</td>\n",
       "    </tr>\n",
       "  </tbody>\n",
       "</table>\n",
       "</div>"
      ],
      "text/plain": [
       "                              SPY                                      \\\n",
       "                             open     high     low   close     volume   \n",
       "timestamp                                                               \n",
       "2019-09-30 04:00:00+00:00  295.98  297.550  295.92  296.77   52771311   \n",
       "2019-10-01 04:00:00+00:00  297.67  298.455  293.00  293.24   90160482   \n",
       "2019-10-02 04:00:00+00:00  291.49  291.510  286.64  288.06  125924074   \n",
       "2019-10-03 04:00:00+00:00  287.81  290.450  284.82  290.42   85906608   \n",
       "2019-10-04 04:00:00+00:00  291.21  294.630  290.82  294.35   66877330   \n",
       "\n",
       "                                                      AGG                    \\\n",
       "                          trade_count        vwap    open      high     low   \n",
       "timestamp                                                                     \n",
       "2019-09-30 04:00:00+00:00      258680  296.786007  112.93  113.2700  112.92   \n",
       "2019-10-01 04:00:00+00:00      422407  294.867498  112.71  113.2500  112.63   \n",
       "2019-10-02 04:00:00+00:00      608988  288.821147  113.19  113.3075  113.09   \n",
       "2019-10-03 04:00:00+00:00      517842  288.281946  113.34  113.7400  113.32   \n",
       "2019-10-04 04:00:00+00:00      305209  292.978205  113.68  113.8255  113.63   \n",
       "\n",
       "                                                                    \n",
       "                            close   volume trade_count        vwap  \n",
       "timestamp                                                           \n",
       "2019-09-30 04:00:00+00:00  113.17  6638203       20269  113.172636  \n",
       "2019-10-01 04:00:00+00:00  113.12  5982470       30567  113.081002  \n",
       "2019-10-02 04:00:00+00:00  113.20  9571687       23424  113.229809  \n",
       "2019-10-03 04:00:00+00:00  113.64  5144049       18028  113.589201  \n",
       "2019-10-04 04:00:00+00:00  113.82  3331180       14511  113.742441  "
      ]
     },
     "metadata": {},
     "output_type": "display_data"
    },
    {
     "data": {
      "text/html": [
       "<div>\n",
       "<style scoped>\n",
       "    .dataframe tbody tr th:only-of-type {\n",
       "        vertical-align: middle;\n",
       "    }\n",
       "\n",
       "    .dataframe tbody tr th {\n",
       "        vertical-align: top;\n",
       "    }\n",
       "\n",
       "    .dataframe thead tr th {\n",
       "        text-align: left;\n",
       "    }\n",
       "\n",
       "    .dataframe thead tr:last-of-type th {\n",
       "        text-align: right;\n",
       "    }\n",
       "</style>\n",
       "<table border=\"1\" class=\"dataframe\">\n",
       "  <thead>\n",
       "    <tr>\n",
       "      <th></th>\n",
       "      <th colspan=\"7\" halign=\"left\">SPY</th>\n",
       "      <th colspan=\"7\" halign=\"left\">AGG</th>\n",
       "    </tr>\n",
       "    <tr>\n",
       "      <th></th>\n",
       "      <th>open</th>\n",
       "      <th>high</th>\n",
       "      <th>low</th>\n",
       "      <th>close</th>\n",
       "      <th>volume</th>\n",
       "      <th>trade_count</th>\n",
       "      <th>vwap</th>\n",
       "      <th>open</th>\n",
       "      <th>high</th>\n",
       "      <th>low</th>\n",
       "      <th>close</th>\n",
       "      <th>volume</th>\n",
       "      <th>trade_count</th>\n",
       "      <th>vwap</th>\n",
       "    </tr>\n",
       "    <tr>\n",
       "      <th>timestamp</th>\n",
       "      <th></th>\n",
       "      <th></th>\n",
       "      <th></th>\n",
       "      <th></th>\n",
       "      <th></th>\n",
       "      <th></th>\n",
       "      <th></th>\n",
       "      <th></th>\n",
       "      <th></th>\n",
       "      <th></th>\n",
       "      <th></th>\n",
       "      <th></th>\n",
       "      <th></th>\n",
       "      <th></th>\n",
       "    </tr>\n",
       "  </thead>\n",
       "  <tbody>\n",
       "    <tr>\n",
       "      <th>2022-09-22 04:00:00+00:00</th>\n",
       "      <td>376.50</td>\n",
       "      <td>378.30</td>\n",
       "      <td>373.4400</td>\n",
       "      <td>374.22</td>\n",
       "      <td>88922900</td>\n",
       "      <td>630401</td>\n",
       "      <td>375.330794</td>\n",
       "      <td>97.90</td>\n",
       "      <td>97.9200</td>\n",
       "      <td>97.4039</td>\n",
       "      <td>97.50</td>\n",
       "      <td>7092118</td>\n",
       "      <td>25072</td>\n",
       "      <td>97.595666</td>\n",
       "    </tr>\n",
       "    <tr>\n",
       "      <th>2022-09-23 04:00:00+00:00</th>\n",
       "      <td>370.58</td>\n",
       "      <td>370.62</td>\n",
       "      <td>363.2900</td>\n",
       "      <td>367.95</td>\n",
       "      <td>121574096</td>\n",
       "      <td>838774</td>\n",
       "      <td>367.579806</td>\n",
       "      <td>97.40</td>\n",
       "      <td>97.4500</td>\n",
       "      <td>96.8900</td>\n",
       "      <td>97.20</td>\n",
       "      <td>11053650</td>\n",
       "      <td>41351</td>\n",
       "      <td>97.135798</td>\n",
       "    </tr>\n",
       "    <tr>\n",
       "      <th>2022-09-26 04:00:00+00:00</th>\n",
       "      <td>366.41</td>\n",
       "      <td>370.21</td>\n",
       "      <td>363.0299</td>\n",
       "      <td>364.31</td>\n",
       "      <td>91731346</td>\n",
       "      <td>633024</td>\n",
       "      <td>365.928441</td>\n",
       "      <td>96.87</td>\n",
       "      <td>96.9100</td>\n",
       "      <td>95.8650</td>\n",
       "      <td>95.95</td>\n",
       "      <td>8467717</td>\n",
       "      <td>32092</td>\n",
       "      <td>96.272680</td>\n",
       "    </tr>\n",
       "    <tr>\n",
       "      <th>2022-09-27 04:00:00+00:00</th>\n",
       "      <td>368.01</td>\n",
       "      <td>370.40</td>\n",
       "      <td>360.8700</td>\n",
       "      <td>363.38</td>\n",
       "      <td>105884493</td>\n",
       "      <td>771522</td>\n",
       "      <td>364.580711</td>\n",
       "      <td>95.96</td>\n",
       "      <td>96.0750</td>\n",
       "      <td>95.3750</td>\n",
       "      <td>95.54</td>\n",
       "      <td>11400353</td>\n",
       "      <td>35134</td>\n",
       "      <td>95.649073</td>\n",
       "    </tr>\n",
       "    <tr>\n",
       "      <th>2022-09-28 04:00:00+00:00</th>\n",
       "      <td>364.44</td>\n",
       "      <td>372.30</td>\n",
       "      <td>362.6000</td>\n",
       "      <td>370.53</td>\n",
       "      <td>109578062</td>\n",
       "      <td>704940</td>\n",
       "      <td>367.937105</td>\n",
       "      <td>96.47</td>\n",
       "      <td>97.1277</td>\n",
       "      <td>96.2700</td>\n",
       "      <td>97.08</td>\n",
       "      <td>10530370</td>\n",
       "      <td>38055</td>\n",
       "      <td>96.834989</td>\n",
       "    </tr>\n",
       "  </tbody>\n",
       "</table>\n",
       "</div>"
      ],
      "text/plain": [
       "                              SPY                                       \\\n",
       "                             open    high       low   close     volume   \n",
       "timestamp                                                                \n",
       "2022-09-22 04:00:00+00:00  376.50  378.30  373.4400  374.22   88922900   \n",
       "2022-09-23 04:00:00+00:00  370.58  370.62  363.2900  367.95  121574096   \n",
       "2022-09-26 04:00:00+00:00  366.41  370.21  363.0299  364.31   91731346   \n",
       "2022-09-27 04:00:00+00:00  368.01  370.40  360.8700  363.38  105884493   \n",
       "2022-09-28 04:00:00+00:00  364.44  372.30  362.6000  370.53  109578062   \n",
       "\n",
       "                                                     AGG                    \\\n",
       "                          trade_count        vwap   open     high      low   \n",
       "timestamp                                                                    \n",
       "2022-09-22 04:00:00+00:00      630401  375.330794  97.90  97.9200  97.4039   \n",
       "2022-09-23 04:00:00+00:00      838774  367.579806  97.40  97.4500  96.8900   \n",
       "2022-09-26 04:00:00+00:00      633024  365.928441  96.87  96.9100  95.8650   \n",
       "2022-09-27 04:00:00+00:00      771522  364.580711  95.96  96.0750  95.3750   \n",
       "2022-09-28 04:00:00+00:00      704940  367.937105  96.47  97.1277  96.2700   \n",
       "\n",
       "                                                                   \n",
       "                           close    volume trade_count       vwap  \n",
       "timestamp                                                          \n",
       "2022-09-22 04:00:00+00:00  97.50   7092118       25072  97.595666  \n",
       "2022-09-23 04:00:00+00:00  97.20  11053650       41351  97.135798  \n",
       "2022-09-26 04:00:00+00:00  95.95   8467717       32092  96.272680  \n",
       "2022-09-27 04:00:00+00:00  95.54  11400353       35134  95.649073  \n",
       "2022-09-28 04:00:00+00:00  97.08  10530370       38055  96.834989  "
      ]
     },
     "metadata": {},
     "output_type": "display_data"
    }
   ],
   "source": [
    "# Use the Alpaca get_bars function to make the API call to get the 3 years worth of pricing data\n",
    "# The tickers and timeframe parameters should have been set in Part 1 of this activity \n",
    "# The start and end dates should be updated with the information set above\n",
    "# Remember to add the df property to the end of the call so the response is returned as a DataFrame\n",
    "historical_prices_df = alpaca.get_bars(\n",
    "    tickers,\n",
    "    timeframe,\n",
    "    start_date,\n",
    "    end_date\n",
    ").df\n",
    "\n",
    "# Reorganize the DataFrame\n",
    "# Separate ticker data\n",
    "hist_ticker_data = []\n",
    "for ticker in tickers:\n",
    "    hist_ticker_data.append(historical_prices_df[historical_prices_df['symbol']==ticker].drop('symbol', axis=1))\n",
    "\n",
    "# Concatenate the ticker DataFrames\n",
    "hist_portfolio_data = pd.concat(hist_ticker_data, axis=1, keys=tickers)\n",
    "\n",
    "# Display both the first and last five rows of the DataFrame\n",
    "display(hist_portfolio_data.head())\n",
    "display(hist_portfolio_data.tail())"
   ]
  },
  {
   "cell_type": "markdown",
   "metadata": {},
   "source": [
    "#### Step 2: Run a Monte Carlo simulation of 500 samples and 30 years for the 60/40 portfolio, and then plot the results."
   ]
  },
  {
   "cell_type": "code",
   "execution_count": 33,
   "metadata": {},
   "outputs": [],
   "source": [
    "# Configure the Monte Carlo simulation to forecast 30 years cumulative returns\n",
    "# The weights should be split 40% to AGG and 60% to SPY.\n",
    "# Run 500 samples.\n",
    "weights = [.6, .4]\n",
    "\n",
    "# Review the simulation input data\n",
    "portfolio_30y_sim = MCSimulation(\n",
    "    hist_portfolio_data,\n",
    "    weights,\n",
    "    num_simulation=500,\n",
    "    num_trading_days=252*30\n",
    ")\n"
   ]
  },
  {
   "cell_type": "code",
   "execution_count": 34,
   "metadata": {},
   "outputs": [
    {
     "data": {
      "text/html": [
       "<div>\n",
       "<style scoped>\n",
       "    .dataframe tbody tr th:only-of-type {\n",
       "        vertical-align: middle;\n",
       "    }\n",
       "\n",
       "    .dataframe tbody tr th {\n",
       "        vertical-align: top;\n",
       "    }\n",
       "\n",
       "    .dataframe thead tr th {\n",
       "        text-align: left;\n",
       "    }\n",
       "\n",
       "    .dataframe thead tr:last-of-type th {\n",
       "        text-align: right;\n",
       "    }\n",
       "</style>\n",
       "<table border=\"1\" class=\"dataframe\">\n",
       "  <thead>\n",
       "    <tr>\n",
       "      <th></th>\n",
       "      <th colspan=\"8\" halign=\"left\">SPY</th>\n",
       "      <th colspan=\"8\" halign=\"left\">AGG</th>\n",
       "    </tr>\n",
       "    <tr>\n",
       "      <th></th>\n",
       "      <th>open</th>\n",
       "      <th>high</th>\n",
       "      <th>low</th>\n",
       "      <th>close</th>\n",
       "      <th>volume</th>\n",
       "      <th>trade_count</th>\n",
       "      <th>vwap</th>\n",
       "      <th>daily_return</th>\n",
       "      <th>open</th>\n",
       "      <th>high</th>\n",
       "      <th>low</th>\n",
       "      <th>close</th>\n",
       "      <th>volume</th>\n",
       "      <th>trade_count</th>\n",
       "      <th>vwap</th>\n",
       "      <th>daily_return</th>\n",
       "    </tr>\n",
       "    <tr>\n",
       "      <th>timestamp</th>\n",
       "      <th></th>\n",
       "      <th></th>\n",
       "      <th></th>\n",
       "      <th></th>\n",
       "      <th></th>\n",
       "      <th></th>\n",
       "      <th></th>\n",
       "      <th></th>\n",
       "      <th></th>\n",
       "      <th></th>\n",
       "      <th></th>\n",
       "      <th></th>\n",
       "      <th></th>\n",
       "      <th></th>\n",
       "      <th></th>\n",
       "      <th></th>\n",
       "    </tr>\n",
       "  </thead>\n",
       "  <tbody>\n",
       "    <tr>\n",
       "      <th>2019-09-30 04:00:00+00:00</th>\n",
       "      <td>295.98</td>\n",
       "      <td>297.550</td>\n",
       "      <td>295.92</td>\n",
       "      <td>296.77</td>\n",
       "      <td>52771311</td>\n",
       "      <td>258680</td>\n",
       "      <td>296.786007</td>\n",
       "      <td>NaN</td>\n",
       "      <td>112.93</td>\n",
       "      <td>113.2700</td>\n",
       "      <td>112.92</td>\n",
       "      <td>113.17</td>\n",
       "      <td>6638203</td>\n",
       "      <td>20269</td>\n",
       "      <td>113.172636</td>\n",
       "      <td>NaN</td>\n",
       "    </tr>\n",
       "    <tr>\n",
       "      <th>2019-10-01 04:00:00+00:00</th>\n",
       "      <td>297.67</td>\n",
       "      <td>298.455</td>\n",
       "      <td>293.00</td>\n",
       "      <td>293.24</td>\n",
       "      <td>90160482</td>\n",
       "      <td>422407</td>\n",
       "      <td>294.867498</td>\n",
       "      <td>-0.011895</td>\n",
       "      <td>112.71</td>\n",
       "      <td>113.2500</td>\n",
       "      <td>112.63</td>\n",
       "      <td>113.12</td>\n",
       "      <td>5982470</td>\n",
       "      <td>30567</td>\n",
       "      <td>113.081002</td>\n",
       "      <td>-0.000442</td>\n",
       "    </tr>\n",
       "    <tr>\n",
       "      <th>2019-10-02 04:00:00+00:00</th>\n",
       "      <td>291.49</td>\n",
       "      <td>291.510</td>\n",
       "      <td>286.64</td>\n",
       "      <td>288.06</td>\n",
       "      <td>125924074</td>\n",
       "      <td>608988</td>\n",
       "      <td>288.821147</td>\n",
       "      <td>-0.017665</td>\n",
       "      <td>113.19</td>\n",
       "      <td>113.3075</td>\n",
       "      <td>113.09</td>\n",
       "      <td>113.20</td>\n",
       "      <td>9571687</td>\n",
       "      <td>23424</td>\n",
       "      <td>113.229809</td>\n",
       "      <td>0.000707</td>\n",
       "    </tr>\n",
       "    <tr>\n",
       "      <th>2019-10-03 04:00:00+00:00</th>\n",
       "      <td>287.81</td>\n",
       "      <td>290.450</td>\n",
       "      <td>284.82</td>\n",
       "      <td>290.42</td>\n",
       "      <td>85906608</td>\n",
       "      <td>517842</td>\n",
       "      <td>288.281946</td>\n",
       "      <td>0.008193</td>\n",
       "      <td>113.34</td>\n",
       "      <td>113.7400</td>\n",
       "      <td>113.32</td>\n",
       "      <td>113.64</td>\n",
       "      <td>5144049</td>\n",
       "      <td>18028</td>\n",
       "      <td>113.589201</td>\n",
       "      <td>0.003887</td>\n",
       "    </tr>\n",
       "    <tr>\n",
       "      <th>2019-10-04 04:00:00+00:00</th>\n",
       "      <td>291.21</td>\n",
       "      <td>294.630</td>\n",
       "      <td>290.82</td>\n",
       "      <td>294.35</td>\n",
       "      <td>66877330</td>\n",
       "      <td>305209</td>\n",
       "      <td>292.978205</td>\n",
       "      <td>0.013532</td>\n",
       "      <td>113.68</td>\n",
       "      <td>113.8255</td>\n",
       "      <td>113.63</td>\n",
       "      <td>113.82</td>\n",
       "      <td>3331180</td>\n",
       "      <td>14511</td>\n",
       "      <td>113.742441</td>\n",
       "      <td>0.001584</td>\n",
       "    </tr>\n",
       "  </tbody>\n",
       "</table>\n",
       "</div>"
      ],
      "text/plain": [
       "                              SPY                                      \\\n",
       "                             open     high     low   close     volume   \n",
       "timestamp                                                               \n",
       "2019-09-30 04:00:00+00:00  295.98  297.550  295.92  296.77   52771311   \n",
       "2019-10-01 04:00:00+00:00  297.67  298.455  293.00  293.24   90160482   \n",
       "2019-10-02 04:00:00+00:00  291.49  291.510  286.64  288.06  125924074   \n",
       "2019-10-03 04:00:00+00:00  287.81  290.450  284.82  290.42   85906608   \n",
       "2019-10-04 04:00:00+00:00  291.21  294.630  290.82  294.35   66877330   \n",
       "\n",
       "                                                                   AGG  \\\n",
       "                          trade_count        vwap daily_return    open   \n",
       "timestamp                                                                \n",
       "2019-09-30 04:00:00+00:00      258680  296.786007          NaN  112.93   \n",
       "2019-10-01 04:00:00+00:00      422407  294.867498    -0.011895  112.71   \n",
       "2019-10-02 04:00:00+00:00      608988  288.821147    -0.017665  113.19   \n",
       "2019-10-03 04:00:00+00:00      517842  288.281946     0.008193  113.34   \n",
       "2019-10-04 04:00:00+00:00      305209  292.978205     0.013532  113.68   \n",
       "\n",
       "                                                                          \\\n",
       "                               high     low   close   volume trade_count   \n",
       "timestamp                                                                  \n",
       "2019-09-30 04:00:00+00:00  113.2700  112.92  113.17  6638203       20269   \n",
       "2019-10-01 04:00:00+00:00  113.2500  112.63  113.12  5982470       30567   \n",
       "2019-10-02 04:00:00+00:00  113.3075  113.09  113.20  9571687       23424   \n",
       "2019-10-03 04:00:00+00:00  113.7400  113.32  113.64  5144049       18028   \n",
       "2019-10-04 04:00:00+00:00  113.8255  113.63  113.82  3331180       14511   \n",
       "\n",
       "                                                    \n",
       "                                 vwap daily_return  \n",
       "timestamp                                           \n",
       "2019-09-30 04:00:00+00:00  113.172636          NaN  \n",
       "2019-10-01 04:00:00+00:00  113.081002    -0.000442  \n",
       "2019-10-02 04:00:00+00:00  113.229809     0.000707  \n",
       "2019-10-03 04:00:00+00:00  113.589201     0.003887  \n",
       "2019-10-04 04:00:00+00:00  113.742441     0.001584  "
      ]
     },
     "execution_count": 34,
     "metadata": {},
     "output_type": "execute_result"
    }
   ],
   "source": [
    "portfolio_30y_sim.portfolio_data.head()"
   ]
  },
  {
   "cell_type": "code",
   "execution_count": 35,
   "metadata": {},
   "outputs": [
    {
     "name": "stdout",
     "output_type": "stream",
     "text": [
      "Running Monte Carlo simulation number 0.\n",
      "Running Monte Carlo simulation number 10.\n",
      "Running Monte Carlo simulation number 20.\n",
      "Running Monte Carlo simulation number 30.\n",
      "Running Monte Carlo simulation number 40.\n",
      "Running Monte Carlo simulation number 50.\n",
      "Running Monte Carlo simulation number 60.\n",
      "Running Monte Carlo simulation number 70.\n",
      "Running Monte Carlo simulation number 80.\n",
      "Running Monte Carlo simulation number 90.\n",
      "Running Monte Carlo simulation number 100.\n"
     ]
    },
    {
     "name": "stderr",
     "output_type": "stream",
     "text": [
      "C:\\Pravin\\Fintech\\Fintech-Workspace\\module5\\MCForecastTools.py:117: PerformanceWarning: DataFrame is highly fragmented.  This is usually the result of calling `frame.insert` many times, which has poor performance.  Consider joining all columns at once using pd.concat(axis=1) instead.  To get a de-fragmented frame, use `newframe = frame.copy()`\n",
      "  portfolio_cumulative_returns[n] = (1 + sim_df.fillna(0)).cumprod()\n"
     ]
    },
    {
     "name": "stdout",
     "output_type": "stream",
     "text": [
      "Running Monte Carlo simulation number 110.\n",
      "Running Monte Carlo simulation number 120.\n",
      "Running Monte Carlo simulation number 130.\n",
      "Running Monte Carlo simulation number 140.\n",
      "Running Monte Carlo simulation number 150.\n",
      "Running Monte Carlo simulation number 160.\n",
      "Running Monte Carlo simulation number 170.\n",
      "Running Monte Carlo simulation number 180.\n",
      "Running Monte Carlo simulation number 190.\n",
      "Running Monte Carlo simulation number 200.\n",
      "Running Monte Carlo simulation number 210.\n",
      "Running Monte Carlo simulation number 220.\n",
      "Running Monte Carlo simulation number 230.\n",
      "Running Monte Carlo simulation number 240.\n",
      "Running Monte Carlo simulation number 250.\n",
      "Running Monte Carlo simulation number 260.\n",
      "Running Monte Carlo simulation number 270.\n",
      "Running Monte Carlo simulation number 280.\n",
      "Running Monte Carlo simulation number 290.\n",
      "Running Monte Carlo simulation number 300.\n",
      "Running Monte Carlo simulation number 310.\n",
      "Running Monte Carlo simulation number 320.\n",
      "Running Monte Carlo simulation number 330.\n",
      "Running Monte Carlo simulation number 340.\n",
      "Running Monte Carlo simulation number 350.\n",
      "Running Monte Carlo simulation number 360.\n",
      "Running Monte Carlo simulation number 370.\n",
      "Running Monte Carlo simulation number 380.\n",
      "Running Monte Carlo simulation number 390.\n",
      "Running Monte Carlo simulation number 400.\n",
      "Running Monte Carlo simulation number 410.\n",
      "Running Monte Carlo simulation number 420.\n",
      "Running Monte Carlo simulation number 430.\n",
      "Running Monte Carlo simulation number 440.\n",
      "Running Monte Carlo simulation number 450.\n",
      "Running Monte Carlo simulation number 460.\n",
      "Running Monte Carlo simulation number 470.\n",
      "Running Monte Carlo simulation number 480.\n",
      "Running Monte Carlo simulation number 490.\n"
     ]
    },
    {
     "data": {
      "text/html": [
       "<div>\n",
       "<style scoped>\n",
       "    .dataframe tbody tr th:only-of-type {\n",
       "        vertical-align: middle;\n",
       "    }\n",
       "\n",
       "    .dataframe tbody tr th {\n",
       "        vertical-align: top;\n",
       "    }\n",
       "\n",
       "    .dataframe thead th {\n",
       "        text-align: right;\n",
       "    }\n",
       "</style>\n",
       "<table border=\"1\" class=\"dataframe\">\n",
       "  <thead>\n",
       "    <tr style=\"text-align: right;\">\n",
       "      <th></th>\n",
       "      <th>0</th>\n",
       "      <th>1</th>\n",
       "      <th>2</th>\n",
       "      <th>3</th>\n",
       "      <th>4</th>\n",
       "      <th>5</th>\n",
       "      <th>6</th>\n",
       "      <th>7</th>\n",
       "      <th>8</th>\n",
       "      <th>9</th>\n",
       "      <th>...</th>\n",
       "      <th>490</th>\n",
       "      <th>491</th>\n",
       "      <th>492</th>\n",
       "      <th>493</th>\n",
       "      <th>494</th>\n",
       "      <th>495</th>\n",
       "      <th>496</th>\n",
       "      <th>497</th>\n",
       "      <th>498</th>\n",
       "      <th>499</th>\n",
       "    </tr>\n",
       "  </thead>\n",
       "  <tbody>\n",
       "    <tr>\n",
       "      <th>0</th>\n",
       "      <td>1.000000</td>\n",
       "      <td>1.000000</td>\n",
       "      <td>1.000000</td>\n",
       "      <td>1.000000</td>\n",
       "      <td>1.000000</td>\n",
       "      <td>1.000000</td>\n",
       "      <td>1.000000</td>\n",
       "      <td>1.000000</td>\n",
       "      <td>1.000000</td>\n",
       "      <td>1.000000</td>\n",
       "      <td>...</td>\n",
       "      <td>1.000000</td>\n",
       "      <td>1.000000</td>\n",
       "      <td>1.000000</td>\n",
       "      <td>1.000000</td>\n",
       "      <td>1.000000</td>\n",
       "      <td>1.000000</td>\n",
       "      <td>1.000000</td>\n",
       "      <td>1.000000</td>\n",
       "      <td>1.000000</td>\n",
       "      <td>1.000000</td>\n",
       "    </tr>\n",
       "    <tr>\n",
       "      <th>1</th>\n",
       "      <td>0.998436</td>\n",
       "      <td>0.997946</td>\n",
       "      <td>1.011042</td>\n",
       "      <td>1.024901</td>\n",
       "      <td>1.019299</td>\n",
       "      <td>0.999938</td>\n",
       "      <td>0.991909</td>\n",
       "      <td>0.987150</td>\n",
       "      <td>0.982529</td>\n",
       "      <td>0.992823</td>\n",
       "      <td>...</td>\n",
       "      <td>0.997338</td>\n",
       "      <td>0.988017</td>\n",
       "      <td>1.000535</td>\n",
       "      <td>0.990109</td>\n",
       "      <td>1.002599</td>\n",
       "      <td>0.990977</td>\n",
       "      <td>1.002915</td>\n",
       "      <td>1.015107</td>\n",
       "      <td>1.004928</td>\n",
       "      <td>1.003480</td>\n",
       "    </tr>\n",
       "    <tr>\n",
       "      <th>2</th>\n",
       "      <td>0.992263</td>\n",
       "      <td>0.982194</td>\n",
       "      <td>1.021196</td>\n",
       "      <td>1.010712</td>\n",
       "      <td>1.016575</td>\n",
       "      <td>1.007565</td>\n",
       "      <td>1.004948</td>\n",
       "      <td>0.971526</td>\n",
       "      <td>0.974292</td>\n",
       "      <td>0.997050</td>\n",
       "      <td>...</td>\n",
       "      <td>1.006266</td>\n",
       "      <td>0.991391</td>\n",
       "      <td>1.004391</td>\n",
       "      <td>0.991320</td>\n",
       "      <td>1.002071</td>\n",
       "      <td>0.997055</td>\n",
       "      <td>1.014244</td>\n",
       "      <td>1.022682</td>\n",
       "      <td>0.998201</td>\n",
       "      <td>0.993233</td>\n",
       "    </tr>\n",
       "    <tr>\n",
       "      <th>3</th>\n",
       "      <td>0.985531</td>\n",
       "      <td>0.988736</td>\n",
       "      <td>1.031079</td>\n",
       "      <td>0.997801</td>\n",
       "      <td>1.014412</td>\n",
       "      <td>1.012324</td>\n",
       "      <td>1.012238</td>\n",
       "      <td>0.981883</td>\n",
       "      <td>0.984031</td>\n",
       "      <td>0.995314</td>\n",
       "      <td>...</td>\n",
       "      <td>1.014290</td>\n",
       "      <td>0.976948</td>\n",
       "      <td>0.993901</td>\n",
       "      <td>0.975551</td>\n",
       "      <td>0.991855</td>\n",
       "      <td>0.999528</td>\n",
       "      <td>1.020506</td>\n",
       "      <td>1.033955</td>\n",
       "      <td>1.004804</td>\n",
       "      <td>1.007891</td>\n",
       "    </tr>\n",
       "    <tr>\n",
       "      <th>4</th>\n",
       "      <td>0.987134</td>\n",
       "      <td>0.980699</td>\n",
       "      <td>1.023616</td>\n",
       "      <td>1.005949</td>\n",
       "      <td>1.003777</td>\n",
       "      <td>1.006898</td>\n",
       "      <td>1.006397</td>\n",
       "      <td>0.988617</td>\n",
       "      <td>0.984869</td>\n",
       "      <td>1.001983</td>\n",
       "      <td>...</td>\n",
       "      <td>1.024911</td>\n",
       "      <td>0.967636</td>\n",
       "      <td>0.991253</td>\n",
       "      <td>0.990848</td>\n",
       "      <td>0.977072</td>\n",
       "      <td>1.017691</td>\n",
       "      <td>1.013080</td>\n",
       "      <td>1.044173</td>\n",
       "      <td>1.009348</td>\n",
       "      <td>1.009828</td>\n",
       "    </tr>\n",
       "    <tr>\n",
       "      <th>...</th>\n",
       "      <td>...</td>\n",
       "      <td>...</td>\n",
       "      <td>...</td>\n",
       "      <td>...</td>\n",
       "      <td>...</td>\n",
       "      <td>...</td>\n",
       "      <td>...</td>\n",
       "      <td>...</td>\n",
       "      <td>...</td>\n",
       "      <td>...</td>\n",
       "      <td>...</td>\n",
       "      <td>...</td>\n",
       "      <td>...</td>\n",
       "      <td>...</td>\n",
       "      <td>...</td>\n",
       "      <td>...</td>\n",
       "      <td>...</td>\n",
       "      <td>...</td>\n",
       "      <td>...</td>\n",
       "      <td>...</td>\n",
       "      <td>...</td>\n",
       "    </tr>\n",
       "    <tr>\n",
       "      <th>7556</th>\n",
       "      <td>1.169932</td>\n",
       "      <td>1.693868</td>\n",
       "      <td>2.876875</td>\n",
       "      <td>9.282455</td>\n",
       "      <td>2.438274</td>\n",
       "      <td>2.301596</td>\n",
       "      <td>1.611891</td>\n",
       "      <td>4.419373</td>\n",
       "      <td>8.109449</td>\n",
       "      <td>3.664250</td>\n",
       "      <td>...</td>\n",
       "      <td>27.019122</td>\n",
       "      <td>3.131437</td>\n",
       "      <td>3.856508</td>\n",
       "      <td>7.227626</td>\n",
       "      <td>2.789698</td>\n",
       "      <td>1.075214</td>\n",
       "      <td>3.004088</td>\n",
       "      <td>5.180639</td>\n",
       "      <td>1.700139</td>\n",
       "      <td>16.180502</td>\n",
       "    </tr>\n",
       "    <tr>\n",
       "      <th>7557</th>\n",
       "      <td>1.173530</td>\n",
       "      <td>1.710354</td>\n",
       "      <td>2.900963</td>\n",
       "      <td>9.318861</td>\n",
       "      <td>2.457870</td>\n",
       "      <td>2.326802</td>\n",
       "      <td>1.624245</td>\n",
       "      <td>4.390149</td>\n",
       "      <td>8.224925</td>\n",
       "      <td>3.700444</td>\n",
       "      <td>...</td>\n",
       "      <td>26.953801</td>\n",
       "      <td>3.129334</td>\n",
       "      <td>3.906834</td>\n",
       "      <td>7.384100</td>\n",
       "      <td>2.824428</td>\n",
       "      <td>1.070964</td>\n",
       "      <td>3.003048</td>\n",
       "      <td>5.171595</td>\n",
       "      <td>1.687283</td>\n",
       "      <td>16.150623</td>\n",
       "    </tr>\n",
       "    <tr>\n",
       "      <th>7558</th>\n",
       "      <td>1.171618</td>\n",
       "      <td>1.696818</td>\n",
       "      <td>2.890015</td>\n",
       "      <td>9.329175</td>\n",
       "      <td>2.511016</td>\n",
       "      <td>2.293562</td>\n",
       "      <td>1.607243</td>\n",
       "      <td>4.299896</td>\n",
       "      <td>8.203199</td>\n",
       "      <td>3.722893</td>\n",
       "      <td>...</td>\n",
       "      <td>26.793437</td>\n",
       "      <td>3.145762</td>\n",
       "      <td>3.939488</td>\n",
       "      <td>7.386793</td>\n",
       "      <td>2.807430</td>\n",
       "      <td>1.077952</td>\n",
       "      <td>2.995002</td>\n",
       "      <td>5.241294</td>\n",
       "      <td>1.679707</td>\n",
       "      <td>16.172069</td>\n",
       "    </tr>\n",
       "    <tr>\n",
       "      <th>7559</th>\n",
       "      <td>1.181328</td>\n",
       "      <td>1.729291</td>\n",
       "      <td>2.879767</td>\n",
       "      <td>9.310705</td>\n",
       "      <td>2.496146</td>\n",
       "      <td>2.282267</td>\n",
       "      <td>1.618807</td>\n",
       "      <td>4.277699</td>\n",
       "      <td>8.234169</td>\n",
       "      <td>3.726428</td>\n",
       "      <td>...</td>\n",
       "      <td>26.784685</td>\n",
       "      <td>3.146276</td>\n",
       "      <td>3.932497</td>\n",
       "      <td>7.382910</td>\n",
       "      <td>2.801073</td>\n",
       "      <td>1.073190</td>\n",
       "      <td>3.009940</td>\n",
       "      <td>5.187533</td>\n",
       "      <td>1.679698</td>\n",
       "      <td>16.239027</td>\n",
       "    </tr>\n",
       "    <tr>\n",
       "      <th>7560</th>\n",
       "      <td>1.170038</td>\n",
       "      <td>1.718908</td>\n",
       "      <td>2.856237</td>\n",
       "      <td>9.317144</td>\n",
       "      <td>2.498477</td>\n",
       "      <td>2.280527</td>\n",
       "      <td>1.603228</td>\n",
       "      <td>4.279445</td>\n",
       "      <td>8.350904</td>\n",
       "      <td>3.773574</td>\n",
       "      <td>...</td>\n",
       "      <td>26.461515</td>\n",
       "      <td>3.138129</td>\n",
       "      <td>3.979546</td>\n",
       "      <td>7.364259</td>\n",
       "      <td>2.831042</td>\n",
       "      <td>1.085018</td>\n",
       "      <td>2.985465</td>\n",
       "      <td>5.168841</td>\n",
       "      <td>1.702044</td>\n",
       "      <td>16.149582</td>\n",
       "    </tr>\n",
       "  </tbody>\n",
       "</table>\n",
       "<p>7561 rows × 500 columns</p>\n",
       "</div>"
      ],
      "text/plain": [
       "           0         1         2         3         4         5         6    \\\n",
       "0     1.000000  1.000000  1.000000  1.000000  1.000000  1.000000  1.000000   \n",
       "1     0.998436  0.997946  1.011042  1.024901  1.019299  0.999938  0.991909   \n",
       "2     0.992263  0.982194  1.021196  1.010712  1.016575  1.007565  1.004948   \n",
       "3     0.985531  0.988736  1.031079  0.997801  1.014412  1.012324  1.012238   \n",
       "4     0.987134  0.980699  1.023616  1.005949  1.003777  1.006898  1.006397   \n",
       "...        ...       ...       ...       ...       ...       ...       ...   \n",
       "7556  1.169932  1.693868  2.876875  9.282455  2.438274  2.301596  1.611891   \n",
       "7557  1.173530  1.710354  2.900963  9.318861  2.457870  2.326802  1.624245   \n",
       "7558  1.171618  1.696818  2.890015  9.329175  2.511016  2.293562  1.607243   \n",
       "7559  1.181328  1.729291  2.879767  9.310705  2.496146  2.282267  1.618807   \n",
       "7560  1.170038  1.718908  2.856237  9.317144  2.498477  2.280527  1.603228   \n",
       "\n",
       "           7         8         9    ...        490       491       492  \\\n",
       "0     1.000000  1.000000  1.000000  ...   1.000000  1.000000  1.000000   \n",
       "1     0.987150  0.982529  0.992823  ...   0.997338  0.988017  1.000535   \n",
       "2     0.971526  0.974292  0.997050  ...   1.006266  0.991391  1.004391   \n",
       "3     0.981883  0.984031  0.995314  ...   1.014290  0.976948  0.993901   \n",
       "4     0.988617  0.984869  1.001983  ...   1.024911  0.967636  0.991253   \n",
       "...        ...       ...       ...  ...        ...       ...       ...   \n",
       "7556  4.419373  8.109449  3.664250  ...  27.019122  3.131437  3.856508   \n",
       "7557  4.390149  8.224925  3.700444  ...  26.953801  3.129334  3.906834   \n",
       "7558  4.299896  8.203199  3.722893  ...  26.793437  3.145762  3.939488   \n",
       "7559  4.277699  8.234169  3.726428  ...  26.784685  3.146276  3.932497   \n",
       "7560  4.279445  8.350904  3.773574  ...  26.461515  3.138129  3.979546   \n",
       "\n",
       "           493       494       495       496       497       498        499  \n",
       "0     1.000000  1.000000  1.000000  1.000000  1.000000  1.000000   1.000000  \n",
       "1     0.990109  1.002599  0.990977  1.002915  1.015107  1.004928   1.003480  \n",
       "2     0.991320  1.002071  0.997055  1.014244  1.022682  0.998201   0.993233  \n",
       "3     0.975551  0.991855  0.999528  1.020506  1.033955  1.004804   1.007891  \n",
       "4     0.990848  0.977072  1.017691  1.013080  1.044173  1.009348   1.009828  \n",
       "...        ...       ...       ...       ...       ...       ...        ...  \n",
       "7556  7.227626  2.789698  1.075214  3.004088  5.180639  1.700139  16.180502  \n",
       "7557  7.384100  2.824428  1.070964  3.003048  5.171595  1.687283  16.150623  \n",
       "7558  7.386793  2.807430  1.077952  2.995002  5.241294  1.679707  16.172069  \n",
       "7559  7.382910  2.801073  1.073190  3.009940  5.187533  1.679698  16.239027  \n",
       "7560  7.364259  2.831042  1.085018  2.985465  5.168841  1.702044  16.149582  \n",
       "\n",
       "[7561 rows x 500 columns]"
      ]
     },
     "execution_count": 35,
     "metadata": {},
     "output_type": "execute_result"
    }
   ],
   "source": [
    "# Run the Monte Carlo simulation to forecast 30 years cumulative returns\n",
    "portfolio_30y_sim.calc_cumulative_return()"
   ]
  },
  {
   "cell_type": "code",
   "execution_count": 61,
   "metadata": {},
   "outputs": [
    {
     "data": {
      "image/png": "[encoded data removed]",
      "text/plain": [
       "<Figure size 432x288 with 1 Axes>"
      ]
     },
     "metadata": {
      "needs_background": "light"
     },
     "output_type": "display_data"
    }
   ],
   "source": [
    "# Visualize the 30-year Monte Carlo simulation by creating an\n",
    "# overlay line plot\n",
    "portfolio_sim_30y_plot = portfolio_30y_sim.plot_simulation()\n",
    "portfolio_sim_30y_plot.get_figure().savefig(\"./Images/MC_30year_sim_plot.png\", bbox_inches=\"tight\")"
   ]
  },
  {
   "cell_type": "markdown",
   "metadata": {},
   "source": [
    "#### Step 3: Plot the probability distribution of the Monte Carlo simulation."
   ]
  },
  {
   "cell_type": "code",
   "execution_count": 62,
   "metadata": {},
   "outputs": [
    {
     "data": {
      "image/png": "[encoded data removed]",
      "text/plain": [
       "<Figure size 432x288 with 1 Axes>"
      ]
     },
     "metadata": {
      "needs_background": "light"
     },
     "output_type": "display_data"
    }
   ],
   "source": [
    "# Visualize the probability distribution of the 30-year Monte Carlo simulation \n",
    "# by plotting a histogram\n",
    "pl_30y_dist = portfolio_30y_sim.plot_distribution()\n",
    "pl_30y_dist.get_figure().savefig(\"./Images/MC_30year_distribution_histogram_plot.png\", bbox_inches=\"tight\")"
   ]
  },
  {
   "cell_type": "markdown",
   "metadata": {},
   "source": [
    "#### Step 4: Generate the summary statistics for the Monte Carlo simulation."
   ]
  },
  {
   "cell_type": "code",
   "execution_count": 63,
   "metadata": {},
   "outputs": [
    {
     "data": {
      "text/plain": [
       "count           500.000000\n",
       "mean              3.444951\n",
       "std               3.086543\n",
       "min               0.215032\n",
       "25%               1.504052\n",
       "50%               2.750372\n",
       "75%               4.393422\n",
       "max              26.461515\n",
       "95% CI Lower      0.520545\n",
       "95% CI Upper     10.211029\n",
       "Name: 7560, dtype: float64"
      ]
     },
     "metadata": {},
     "output_type": "display_data"
    }
   ],
   "source": [
    "# Generate summary statistics from the 30-year Monte Carlo simulation results\n",
    "# Save the results as a variable\n",
    "tbl_30y_summary_stats = portfolio_30y_sim.summarize_cumulative_return()\n",
    "\n",
    "# Review the 30-year Monte Carlo summary statistics\n",
    "display(tbl_30y_summary_stats)"
   ]
  },
  {
   "cell_type": "code",
   "execution_count": 69,
   "metadata": {},
   "outputs": [
    {
     "data": {
      "text/plain": [
       "<AxesSubplot:>"
      ]
     },
     "execution_count": 69,
     "metadata": {},
     "output_type": "execute_result"
    },
    {
     "data": {
      "image/png": "[encoded data removed]",
      "text/plain": [
       "<Figure size 432x288 with 1 Axes>"
      ]
     },
     "metadata": {
      "needs_background": "light"
     },
     "output_type": "display_data"
    }
   ],
   "source": [
    "# Compute summary statistics from the simulated daily returns\n",
    "dic_30y_simulated_returns = {'mean' : list(portfolio_30y_sim.simulated_return.mean(axis=1)),\n",
    "                        'median': list(portfolio_30y_sim.simulated_return.median(axis=1)),\n",
    "                        'min' : list(portfolio_30y_sim.simulated_return.min(axis=1)),\n",
    "                        'max' : list(portfolio_30y_sim.simulated_return.max(axis=1))\n",
    "        }\n",
    "\n",
    "#Create a DataFrame with the summary statistics\n",
    "df_30y_simulated_returns = pd.DataFrame(dic_30y_simulated_returns)\n",
    "\n",
    "# Use the 'plot' function to create a chart of the simulated cumulative returns\n",
    "df_30y_simulated_returns.plot()"
   ]
  },
  {
   "cell_type": "markdown",
   "metadata": {},
   "source": [
    "### Analyze the Retirement Portfolio Forecasts\n",
    "\n",
    "Using the current value of only the stock and bond portion of the member's portfolio and the summary statistics that you generated from the Monte Carlo simulation, answer the following question in your Jupyter notebook:\n",
    "\n",
    "-  What are the lower and upper bounds for the expected value of the portfolio with a 95% confidence interval?\n"
   ]
  },
  {
   "cell_type": "code",
   "execution_count": 64,
   "metadata": {},
   "outputs": [
    {
     "name": "stdout",
     "output_type": "stream",
     "text": [
      " Current balance of the stock and bond portion of the portfolio is  60174.30\n"
     ]
    }
   ],
   "source": [
    "# Print the current balance of the stock and bond portion of the members portfolio\n",
    "print(f' Current balance of the stock and bond portion of the portfolio is {total_stocks_bonds: .2f}')"
   ]
  },
  {
   "cell_type": "code",
   "execution_count": 66,
   "metadata": {},
   "outputs": [
    {
     "name": "stdout",
     "output_type": "stream",
     "text": [
      " There is a 95% chance that over the next 30 years, the value of stock/bond portfolio will range from\n",
      " lower bound of $ 31323.44 to upper bound of $ 614441.52\n"
     ]
    }
   ],
   "source": [
    "# Use the lower and upper `95%` confidence intervals to calculate the range of the possible outcomes for the current stock/bond portfolio\n",
    "ci_lower_thirty_cumulative_return = round(tbl_30y_summary_stats[8]*total_stocks_bonds,4)\n",
    "ci_upper_thirty_cumulative_return = round(tbl_30y_summary_stats[9]*total_stocks_bonds,4)\n",
    "\n",
    "# Print the result of your calculations\n",
    "print(f' There is a 95% chance that over the next 30 years, the value of stock/bond portfolio will range from')\n",
    "print(f' lower bound of ${ci_lower_thirty_cumulative_return: .2f} to upper bound of ${ci_upper_thirty_cumulative_return: .2f}')\n"
   ]
  },
  {
   "cell_type": "markdown",
   "metadata": {},
   "source": [
    "### Forecast Cumulative Returns in 10 Years\n",
    "\n",
    "The CTO of the credit union is impressed with your work on these planning tools but wonders if 30 years is a long time to wait until retirement. So, your next task is to adjust the retirement portfolio and run a new Monte Carlo simulation to find out if the changes will allow members to retire earlier.\n",
    "\n",
    "For this new Monte Carlo simulation, do the following: \n",
    "\n",
    "- Forecast the cumulative returns for 10 years from now. Because of the shortened investment horizon (30 years to 10 years), the portfolio needs to invest more heavily in the riskier asset&mdash;that is, stock&mdash;to help accumulate wealth for retirement. \n",
    "\n",
    "- Adjust the weights of the retirement portfolio so that the composition for the Monte Carlo simulation consists of 20% bonds and 80% stocks. \n",
    "\n",
    "- Run the simulation over 500 samples, and use the same data that the API call to Alpaca generated.\n",
    "\n",
    "- Based on the new Monte Carlo simulation, answer the following questions in your Jupyter notebook:\n",
    "\n",
    "    - Using the current value of only the stock and bond portion of the member's portfolio and the summary statistics that you generated from the new Monte Carlo simulation, what are the lower and upper bounds for the expected value of the portfolio (with the new weights) with a 95% confidence interval?\n",
    "\n",
    "    - Will weighting the portfolio more heavily toward stocks allow the credit union members to retire after only 10 years?\n"
   ]
  },
  {
   "cell_type": "code",
   "execution_count": 79,
   "metadata": {},
   "outputs": [
    {
     "data": {
      "text/html": [
       "<div>\n",
       "<style scoped>\n",
       "    .dataframe tbody tr th:only-of-type {\n",
       "        vertical-align: middle;\n",
       "    }\n",
       "\n",
       "    .dataframe tbody tr th {\n",
       "        vertical-align: top;\n",
       "    }\n",
       "\n",
       "    .dataframe thead tr th {\n",
       "        text-align: left;\n",
       "    }\n",
       "\n",
       "    .dataframe thead tr:last-of-type th {\n",
       "        text-align: right;\n",
       "    }\n",
       "</style>\n",
       "<table border=\"1\" class=\"dataframe\">\n",
       "  <thead>\n",
       "    <tr>\n",
       "      <th></th>\n",
       "      <th colspan=\"8\" halign=\"left\">SPY</th>\n",
       "      <th colspan=\"8\" halign=\"left\">AGG</th>\n",
       "    </tr>\n",
       "    <tr>\n",
       "      <th></th>\n",
       "      <th>open</th>\n",
       "      <th>high</th>\n",
       "      <th>low</th>\n",
       "      <th>close</th>\n",
       "      <th>volume</th>\n",
       "      <th>trade_count</th>\n",
       "      <th>vwap</th>\n",
       "      <th>daily_return</th>\n",
       "      <th>open</th>\n",
       "      <th>high</th>\n",
       "      <th>low</th>\n",
       "      <th>close</th>\n",
       "      <th>volume</th>\n",
       "      <th>trade_count</th>\n",
       "      <th>vwap</th>\n",
       "      <th>daily_return</th>\n",
       "    </tr>\n",
       "    <tr>\n",
       "      <th>timestamp</th>\n",
       "      <th></th>\n",
       "      <th></th>\n",
       "      <th></th>\n",
       "      <th></th>\n",
       "      <th></th>\n",
       "      <th></th>\n",
       "      <th></th>\n",
       "      <th></th>\n",
       "      <th></th>\n",
       "      <th></th>\n",
       "      <th></th>\n",
       "      <th></th>\n",
       "      <th></th>\n",
       "      <th></th>\n",
       "      <th></th>\n",
       "      <th></th>\n",
       "    </tr>\n",
       "  </thead>\n",
       "  <tbody>\n",
       "    <tr>\n",
       "      <th>2019-09-30 04:00:00+00:00</th>\n",
       "      <td>295.98</td>\n",
       "      <td>297.550</td>\n",
       "      <td>295.92</td>\n",
       "      <td>296.77</td>\n",
       "      <td>52771311</td>\n",
       "      <td>258680</td>\n",
       "      <td>296.786007</td>\n",
       "      <td>NaN</td>\n",
       "      <td>112.93</td>\n",
       "      <td>113.2700</td>\n",
       "      <td>112.92</td>\n",
       "      <td>113.17</td>\n",
       "      <td>6638203</td>\n",
       "      <td>20269</td>\n",
       "      <td>113.172636</td>\n",
       "      <td>NaN</td>\n",
       "    </tr>\n",
       "    <tr>\n",
       "      <th>2019-10-01 04:00:00+00:00</th>\n",
       "      <td>297.67</td>\n",
       "      <td>298.455</td>\n",
       "      <td>293.00</td>\n",
       "      <td>293.24</td>\n",
       "      <td>90160482</td>\n",
       "      <td>422407</td>\n",
       "      <td>294.867498</td>\n",
       "      <td>-0.011895</td>\n",
       "      <td>112.71</td>\n",
       "      <td>113.2500</td>\n",
       "      <td>112.63</td>\n",
       "      <td>113.12</td>\n",
       "      <td>5982470</td>\n",
       "      <td>30567</td>\n",
       "      <td>113.081002</td>\n",
       "      <td>-0.000442</td>\n",
       "    </tr>\n",
       "    <tr>\n",
       "      <th>2019-10-02 04:00:00+00:00</th>\n",
       "      <td>291.49</td>\n",
       "      <td>291.510</td>\n",
       "      <td>286.64</td>\n",
       "      <td>288.06</td>\n",
       "      <td>125924074</td>\n",
       "      <td>608988</td>\n",
       "      <td>288.821147</td>\n",
       "      <td>-0.017665</td>\n",
       "      <td>113.19</td>\n",
       "      <td>113.3075</td>\n",
       "      <td>113.09</td>\n",
       "      <td>113.20</td>\n",
       "      <td>9571687</td>\n",
       "      <td>23424</td>\n",
       "      <td>113.229809</td>\n",
       "      <td>0.000707</td>\n",
       "    </tr>\n",
       "    <tr>\n",
       "      <th>2019-10-03 04:00:00+00:00</th>\n",
       "      <td>287.81</td>\n",
       "      <td>290.450</td>\n",
       "      <td>284.82</td>\n",
       "      <td>290.42</td>\n",
       "      <td>85906608</td>\n",
       "      <td>517842</td>\n",
       "      <td>288.281946</td>\n",
       "      <td>0.008193</td>\n",
       "      <td>113.34</td>\n",
       "      <td>113.7400</td>\n",
       "      <td>113.32</td>\n",
       "      <td>113.64</td>\n",
       "      <td>5144049</td>\n",
       "      <td>18028</td>\n",
       "      <td>113.589201</td>\n",
       "      <td>0.003887</td>\n",
       "    </tr>\n",
       "    <tr>\n",
       "      <th>2019-10-04 04:00:00+00:00</th>\n",
       "      <td>291.21</td>\n",
       "      <td>294.630</td>\n",
       "      <td>290.82</td>\n",
       "      <td>294.35</td>\n",
       "      <td>66877330</td>\n",
       "      <td>305209</td>\n",
       "      <td>292.978205</td>\n",
       "      <td>0.013532</td>\n",
       "      <td>113.68</td>\n",
       "      <td>113.8255</td>\n",
       "      <td>113.63</td>\n",
       "      <td>113.82</td>\n",
       "      <td>3331180</td>\n",
       "      <td>14511</td>\n",
       "      <td>113.742441</td>\n",
       "      <td>0.001584</td>\n",
       "    </tr>\n",
       "  </tbody>\n",
       "</table>\n",
       "</div>"
      ],
      "text/plain": [
       "                              SPY                                      \\\n",
       "                             open     high     low   close     volume   \n",
       "timestamp                                                               \n",
       "2019-09-30 04:00:00+00:00  295.98  297.550  295.92  296.77   52771311   \n",
       "2019-10-01 04:00:00+00:00  297.67  298.455  293.00  293.24   90160482   \n",
       "2019-10-02 04:00:00+00:00  291.49  291.510  286.64  288.06  125924074   \n",
       "2019-10-03 04:00:00+00:00  287.81  290.450  284.82  290.42   85906608   \n",
       "2019-10-04 04:00:00+00:00  291.21  294.630  290.82  294.35   66877330   \n",
       "\n",
       "                                                                   AGG  \\\n",
       "                          trade_count        vwap daily_return    open   \n",
       "timestamp                                                                \n",
       "2019-09-30 04:00:00+00:00      258680  296.786007          NaN  112.93   \n",
       "2019-10-01 04:00:00+00:00      422407  294.867498    -0.011895  112.71   \n",
       "2019-10-02 04:00:00+00:00      608988  288.821147    -0.017665  113.19   \n",
       "2019-10-03 04:00:00+00:00      517842  288.281946     0.008193  113.34   \n",
       "2019-10-04 04:00:00+00:00      305209  292.978205     0.013532  113.68   \n",
       "\n",
       "                                                                          \\\n",
       "                               high     low   close   volume trade_count   \n",
       "timestamp                                                                  \n",
       "2019-09-30 04:00:00+00:00  113.2700  112.92  113.17  6638203       20269   \n",
       "2019-10-01 04:00:00+00:00  113.2500  112.63  113.12  5982470       30567   \n",
       "2019-10-02 04:00:00+00:00  113.3075  113.09  113.20  9571687       23424   \n",
       "2019-10-03 04:00:00+00:00  113.7400  113.32  113.64  5144049       18028   \n",
       "2019-10-04 04:00:00+00:00  113.8255  113.63  113.82  3331180       14511   \n",
       "\n",
       "                                                    \n",
       "                                 vwap daily_return  \n",
       "timestamp                                           \n",
       "2019-09-30 04:00:00+00:00  113.172636          NaN  \n",
       "2019-10-01 04:00:00+00:00  113.081002    -0.000442  \n",
       "2019-10-02 04:00:00+00:00  113.229809     0.000707  \n",
       "2019-10-03 04:00:00+00:00  113.589201     0.003887  \n",
       "2019-10-04 04:00:00+00:00  113.742441     0.001584  "
      ]
     },
     "execution_count": 79,
     "metadata": {},
     "output_type": "execute_result"
    }
   ],
   "source": [
    "# Configure a Monte Carlo simulation to forecast 10 years cumulative returns\n",
    "# The weights should be split 20% to AGG and 80% to SPY.\n",
    "# Run 500 samples.\n",
    "weights = [.8, .2]\n",
    "\n",
    "# Review the simulation input data\n",
    "portfolio_10y_sim = MCSimulation(\n",
    "    hist_portfolio_data,\n",
    "    weights,\n",
    "    num_simulation=500,\n",
    "    num_trading_days=252*10\n",
    ")\n",
    "portfolio_10y_sim.portfolio_data.head()"
   ]
  },
  {
   "cell_type": "code",
   "execution_count": 80,
   "metadata": {},
   "outputs": [
    {
     "name": "stdout",
     "output_type": "stream",
     "text": [
      "Running Monte Carlo simulation number 0.\n",
      "Running Monte Carlo simulation number 10.\n",
      "Running Monte Carlo simulation number 20.\n",
      "Running Monte Carlo simulation number 30.\n",
      "Running Monte Carlo simulation number 40.\n",
      "Running Monte Carlo simulation number 50.\n",
      "Running Monte Carlo simulation number 60.\n",
      "Running Monte Carlo simulation number 70.\n",
      "Running Monte Carlo simulation number 80.\n",
      "Running Monte Carlo simulation number 90.\n",
      "Running Monte Carlo simulation number 100.\n"
     ]
    },
    {
     "name": "stderr",
     "output_type": "stream",
     "text": [
      "C:\\Pravin\\Fintech\\Fintech-Workspace\\module5\\MCForecastTools.py:117: PerformanceWarning: DataFrame is highly fragmented.  This is usually the result of calling `frame.insert` many times, which has poor performance.  Consider joining all columns at once using pd.concat(axis=1) instead.  To get a de-fragmented frame, use `newframe = frame.copy()`\n",
      "  portfolio_cumulative_returns[n] = (1 + sim_df.fillna(0)).cumprod()\n"
     ]
    },
    {
     "name": "stdout",
     "output_type": "stream",
     "text": [
      "Running Monte Carlo simulation number 110.\n",
      "Running Monte Carlo simulation number 120.\n",
      "Running Monte Carlo simulation number 130.\n",
      "Running Monte Carlo simulation number 140.\n",
      "Running Monte Carlo simulation number 150.\n",
      "Running Monte Carlo simulation number 160.\n",
      "Running Monte Carlo simulation number 170.\n",
      "Running Monte Carlo simulation number 180.\n",
      "Running Monte Carlo simulation number 190.\n",
      "Running Monte Carlo simulation number 200.\n",
      "Running Monte Carlo simulation number 210.\n",
      "Running Monte Carlo simulation number 220.\n",
      "Running Monte Carlo simulation number 230.\n",
      "Running Monte Carlo simulation number 240.\n",
      "Running Monte Carlo simulation number 250.\n",
      "Running Monte Carlo simulation number 260.\n",
      "Running Monte Carlo simulation number 270.\n",
      "Running Monte Carlo simulation number 280.\n",
      "Running Monte Carlo simulation number 290.\n",
      "Running Monte Carlo simulation number 300.\n",
      "Running Monte Carlo simulation number 310.\n",
      "Running Monte Carlo simulation number 320.\n",
      "Running Monte Carlo simulation number 330.\n",
      "Running Monte Carlo simulation number 340.\n",
      "Running Monte Carlo simulation number 350.\n",
      "Running Monte Carlo simulation number 360.\n",
      "Running Monte Carlo simulation number 370.\n",
      "Running Monte Carlo simulation number 380.\n",
      "Running Monte Carlo simulation number 390.\n",
      "Running Monte Carlo simulation number 400.\n",
      "Running Monte Carlo simulation number 410.\n",
      "Running Monte Carlo simulation number 420.\n",
      "Running Monte Carlo simulation number 430.\n",
      "Running Monte Carlo simulation number 440.\n",
      "Running Monte Carlo simulation number 450.\n",
      "Running Monte Carlo simulation number 460.\n",
      "Running Monte Carlo simulation number 470.\n",
      "Running Monte Carlo simulation number 480.\n",
      "Running Monte Carlo simulation number 490.\n"
     ]
    },
    {
     "data": {
      "text/html": [
       "<div>\n",
       "<style scoped>\n",
       "    .dataframe tbody tr th:only-of-type {\n",
       "        vertical-align: middle;\n",
       "    }\n",
       "\n",
       "    .dataframe tbody tr th {\n",
       "        vertical-align: top;\n",
       "    }\n",
       "\n",
       "    .dataframe thead th {\n",
       "        text-align: right;\n",
       "    }\n",
       "</style>\n",
       "<table border=\"1\" class=\"dataframe\">\n",
       "  <thead>\n",
       "    <tr style=\"text-align: right;\">\n",
       "      <th></th>\n",
       "      <th>0</th>\n",
       "      <th>1</th>\n",
       "      <th>2</th>\n",
       "      <th>3</th>\n",
       "      <th>4</th>\n",
       "      <th>5</th>\n",
       "      <th>6</th>\n",
       "      <th>7</th>\n",
       "      <th>8</th>\n",
       "      <th>9</th>\n",
       "      <th>...</th>\n",
       "      <th>490</th>\n",
       "      <th>491</th>\n",
       "      <th>492</th>\n",
       "      <th>493</th>\n",
       "      <th>494</th>\n",
       "      <th>495</th>\n",
       "      <th>496</th>\n",
       "      <th>497</th>\n",
       "      <th>498</th>\n",
       "      <th>499</th>\n",
       "    </tr>\n",
       "  </thead>\n",
       "  <tbody>\n",
       "    <tr>\n",
       "      <th>0</th>\n",
       "      <td>1.000000</td>\n",
       "      <td>1.000000</td>\n",
       "      <td>1.000000</td>\n",
       "      <td>1.000000</td>\n",
       "      <td>1.000000</td>\n",
       "      <td>1.000000</td>\n",
       "      <td>1.000000</td>\n",
       "      <td>1.000000</td>\n",
       "      <td>1.000000</td>\n",
       "      <td>1.000000</td>\n",
       "      <td>...</td>\n",
       "      <td>1.000000</td>\n",
       "      <td>1.000000</td>\n",
       "      <td>1.000000</td>\n",
       "      <td>1.000000</td>\n",
       "      <td>1.000000</td>\n",
       "      <td>1.000000</td>\n",
       "      <td>1.000000</td>\n",
       "      <td>1.000000</td>\n",
       "      <td>1.000000</td>\n",
       "      <td>1.000000</td>\n",
       "    </tr>\n",
       "    <tr>\n",
       "      <th>1</th>\n",
       "      <td>1.001063</td>\n",
       "      <td>1.007248</td>\n",
       "      <td>1.009019</td>\n",
       "      <td>0.986277</td>\n",
       "      <td>0.980360</td>\n",
       "      <td>1.033654</td>\n",
       "      <td>1.025805</td>\n",
       "      <td>1.000676</td>\n",
       "      <td>1.006312</td>\n",
       "      <td>1.009116</td>\n",
       "      <td>...</td>\n",
       "      <td>0.960579</td>\n",
       "      <td>0.990692</td>\n",
       "      <td>0.971371</td>\n",
       "      <td>0.974269</td>\n",
       "      <td>1.009458</td>\n",
       "      <td>0.986668</td>\n",
       "      <td>0.997649</td>\n",
       "      <td>1.014037</td>\n",
       "      <td>1.003166</td>\n",
       "      <td>1.023852</td>\n",
       "    </tr>\n",
       "    <tr>\n",
       "      <th>2</th>\n",
       "      <td>0.996048</td>\n",
       "      <td>0.985007</td>\n",
       "      <td>1.019925</td>\n",
       "      <td>0.969960</td>\n",
       "      <td>0.984679</td>\n",
       "      <td>1.023290</td>\n",
       "      <td>1.046155</td>\n",
       "      <td>1.018741</td>\n",
       "      <td>0.992885</td>\n",
       "      <td>1.004146</td>\n",
       "      <td>...</td>\n",
       "      <td>0.952219</td>\n",
       "      <td>0.993794</td>\n",
       "      <td>0.965646</td>\n",
       "      <td>0.984159</td>\n",
       "      <td>1.007069</td>\n",
       "      <td>0.989819</td>\n",
       "      <td>0.987800</td>\n",
       "      <td>1.020393</td>\n",
       "      <td>1.023537</td>\n",
       "      <td>1.019573</td>\n",
       "    </tr>\n",
       "    <tr>\n",
       "      <th>3</th>\n",
       "      <td>0.990177</td>\n",
       "      <td>0.983504</td>\n",
       "      <td>1.006236</td>\n",
       "      <td>0.974248</td>\n",
       "      <td>0.982051</td>\n",
       "      <td>1.018230</td>\n",
       "      <td>1.053858</td>\n",
       "      <td>1.028559</td>\n",
       "      <td>1.007505</td>\n",
       "      <td>1.003729</td>\n",
       "      <td>...</td>\n",
       "      <td>0.944244</td>\n",
       "      <td>1.015212</td>\n",
       "      <td>0.962833</td>\n",
       "      <td>0.993670</td>\n",
       "      <td>1.010138</td>\n",
       "      <td>0.976368</td>\n",
       "      <td>0.975190</td>\n",
       "      <td>1.008266</td>\n",
       "      <td>1.012777</td>\n",
       "      <td>1.027994</td>\n",
       "    </tr>\n",
       "    <tr>\n",
       "      <th>4</th>\n",
       "      <td>0.969011</td>\n",
       "      <td>0.977874</td>\n",
       "      <td>1.003826</td>\n",
       "      <td>0.975677</td>\n",
       "      <td>0.969262</td>\n",
       "      <td>1.025898</td>\n",
       "      <td>1.051633</td>\n",
       "      <td>1.031647</td>\n",
       "      <td>1.028222</td>\n",
       "      <td>0.984924</td>\n",
       "      <td>...</td>\n",
       "      <td>0.950063</td>\n",
       "      <td>0.992162</td>\n",
       "      <td>0.959430</td>\n",
       "      <td>0.974865</td>\n",
       "      <td>1.003305</td>\n",
       "      <td>0.995351</td>\n",
       "      <td>0.967700</td>\n",
       "      <td>0.993727</td>\n",
       "      <td>1.008121</td>\n",
       "      <td>1.056099</td>\n",
       "    </tr>\n",
       "    <tr>\n",
       "      <th>...</th>\n",
       "      <td>...</td>\n",
       "      <td>...</td>\n",
       "      <td>...</td>\n",
       "      <td>...</td>\n",
       "      <td>...</td>\n",
       "      <td>...</td>\n",
       "      <td>...</td>\n",
       "      <td>...</td>\n",
       "      <td>...</td>\n",
       "      <td>...</td>\n",
       "      <td>...</td>\n",
       "      <td>...</td>\n",
       "      <td>...</td>\n",
       "      <td>...</td>\n",
       "      <td>...</td>\n",
       "      <td>...</td>\n",
       "      <td>...</td>\n",
       "      <td>...</td>\n",
       "      <td>...</td>\n",
       "      <td>...</td>\n",
       "      <td>...</td>\n",
       "    </tr>\n",
       "    <tr>\n",
       "      <th>2516</th>\n",
       "      <td>1.765804</td>\n",
       "      <td>1.023423</td>\n",
       "      <td>2.123619</td>\n",
       "      <td>1.081531</td>\n",
       "      <td>3.574655</td>\n",
       "      <td>1.916885</td>\n",
       "      <td>1.617041</td>\n",
       "      <td>7.390816</td>\n",
       "      <td>1.275379</td>\n",
       "      <td>1.309794</td>\n",
       "      <td>...</td>\n",
       "      <td>1.581841</td>\n",
       "      <td>1.084318</td>\n",
       "      <td>4.264012</td>\n",
       "      <td>0.758658</td>\n",
       "      <td>1.459324</td>\n",
       "      <td>0.833126</td>\n",
       "      <td>1.636329</td>\n",
       "      <td>0.862421</td>\n",
       "      <td>1.380986</td>\n",
       "      <td>1.699933</td>\n",
       "    </tr>\n",
       "    <tr>\n",
       "      <th>2517</th>\n",
       "      <td>1.803447</td>\n",
       "      <td>1.030084</td>\n",
       "      <td>2.101606</td>\n",
       "      <td>1.077222</td>\n",
       "      <td>3.495618</td>\n",
       "      <td>1.901900</td>\n",
       "      <td>1.620376</td>\n",
       "      <td>7.472186</td>\n",
       "      <td>1.261973</td>\n",
       "      <td>1.329571</td>\n",
       "      <td>...</td>\n",
       "      <td>1.554260</td>\n",
       "      <td>1.096151</td>\n",
       "      <td>4.318047</td>\n",
       "      <td>0.763624</td>\n",
       "      <td>1.493288</td>\n",
       "      <td>0.827732</td>\n",
       "      <td>1.651191</td>\n",
       "      <td>0.870154</td>\n",
       "      <td>1.374157</td>\n",
       "      <td>1.680958</td>\n",
       "    </tr>\n",
       "    <tr>\n",
       "      <th>2518</th>\n",
       "      <td>1.819849</td>\n",
       "      <td>1.055506</td>\n",
       "      <td>2.095520</td>\n",
       "      <td>1.088506</td>\n",
       "      <td>3.461596</td>\n",
       "      <td>1.892437</td>\n",
       "      <td>1.641022</td>\n",
       "      <td>7.371793</td>\n",
       "      <td>1.241477</td>\n",
       "      <td>1.335458</td>\n",
       "      <td>...</td>\n",
       "      <td>1.562011</td>\n",
       "      <td>1.111351</td>\n",
       "      <td>4.329448</td>\n",
       "      <td>0.768594</td>\n",
       "      <td>1.496365</td>\n",
       "      <td>0.824373</td>\n",
       "      <td>1.669955</td>\n",
       "      <td>0.865407</td>\n",
       "      <td>1.402016</td>\n",
       "      <td>1.680695</td>\n",
       "    </tr>\n",
       "    <tr>\n",
       "      <th>2519</th>\n",
       "      <td>1.828249</td>\n",
       "      <td>1.056402</td>\n",
       "      <td>2.092071</td>\n",
       "      <td>1.083915</td>\n",
       "      <td>3.434014</td>\n",
       "      <td>1.945341</td>\n",
       "      <td>1.674942</td>\n",
       "      <td>7.345238</td>\n",
       "      <td>1.267602</td>\n",
       "      <td>1.313685</td>\n",
       "      <td>...</td>\n",
       "      <td>1.543903</td>\n",
       "      <td>1.113771</td>\n",
       "      <td>4.315065</td>\n",
       "      <td>0.750650</td>\n",
       "      <td>1.484546</td>\n",
       "      <td>0.825182</td>\n",
       "      <td>1.673583</td>\n",
       "      <td>0.861594</td>\n",
       "      <td>1.406829</td>\n",
       "      <td>1.662911</td>\n",
       "    </tr>\n",
       "    <tr>\n",
       "      <th>2520</th>\n",
       "      <td>1.848224</td>\n",
       "      <td>1.050835</td>\n",
       "      <td>2.132197</td>\n",
       "      <td>1.075828</td>\n",
       "      <td>3.426294</td>\n",
       "      <td>1.961162</td>\n",
       "      <td>1.658732</td>\n",
       "      <td>7.361351</td>\n",
       "      <td>1.282864</td>\n",
       "      <td>1.303961</td>\n",
       "      <td>...</td>\n",
       "      <td>1.544132</td>\n",
       "      <td>1.114789</td>\n",
       "      <td>4.306933</td>\n",
       "      <td>0.743963</td>\n",
       "      <td>1.480564</td>\n",
       "      <td>0.825498</td>\n",
       "      <td>1.673727</td>\n",
       "      <td>0.862087</td>\n",
       "      <td>1.391887</td>\n",
       "      <td>1.664291</td>\n",
       "    </tr>\n",
       "  </tbody>\n",
       "</table>\n",
       "<p>2521 rows × 500 columns</p>\n",
       "</div>"
      ],
      "text/plain": [
       "           0         1         2         3         4         5         6    \\\n",
       "0     1.000000  1.000000  1.000000  1.000000  1.000000  1.000000  1.000000   \n",
       "1     1.001063  1.007248  1.009019  0.986277  0.980360  1.033654  1.025805   \n",
       "2     0.996048  0.985007  1.019925  0.969960  0.984679  1.023290  1.046155   \n",
       "3     0.990177  0.983504  1.006236  0.974248  0.982051  1.018230  1.053858   \n",
       "4     0.969011  0.977874  1.003826  0.975677  0.969262  1.025898  1.051633   \n",
       "...        ...       ...       ...       ...       ...       ...       ...   \n",
       "2516  1.765804  1.023423  2.123619  1.081531  3.574655  1.916885  1.617041   \n",
       "2517  1.803447  1.030084  2.101606  1.077222  3.495618  1.901900  1.620376   \n",
       "2518  1.819849  1.055506  2.095520  1.088506  3.461596  1.892437  1.641022   \n",
       "2519  1.828249  1.056402  2.092071  1.083915  3.434014  1.945341  1.674942   \n",
       "2520  1.848224  1.050835  2.132197  1.075828  3.426294  1.961162  1.658732   \n",
       "\n",
       "           7         8         9    ...       490       491       492  \\\n",
       "0     1.000000  1.000000  1.000000  ...  1.000000  1.000000  1.000000   \n",
       "1     1.000676  1.006312  1.009116  ...  0.960579  0.990692  0.971371   \n",
       "2     1.018741  0.992885  1.004146  ...  0.952219  0.993794  0.965646   \n",
       "3     1.028559  1.007505  1.003729  ...  0.944244  1.015212  0.962833   \n",
       "4     1.031647  1.028222  0.984924  ...  0.950063  0.992162  0.959430   \n",
       "...        ...       ...       ...  ...       ...       ...       ...   \n",
       "2516  7.390816  1.275379  1.309794  ...  1.581841  1.084318  4.264012   \n",
       "2517  7.472186  1.261973  1.329571  ...  1.554260  1.096151  4.318047   \n",
       "2518  7.371793  1.241477  1.335458  ...  1.562011  1.111351  4.329448   \n",
       "2519  7.345238  1.267602  1.313685  ...  1.543903  1.113771  4.315065   \n",
       "2520  7.361351  1.282864  1.303961  ...  1.544132  1.114789  4.306933   \n",
       "\n",
       "           493       494       495       496       497       498       499  \n",
       "0     1.000000  1.000000  1.000000  1.000000  1.000000  1.000000  1.000000  \n",
       "1     0.974269  1.009458  0.986668  0.997649  1.014037  1.003166  1.023852  \n",
       "2     0.984159  1.007069  0.989819  0.987800  1.020393  1.023537  1.019573  \n",
       "3     0.993670  1.010138  0.976368  0.975190  1.008266  1.012777  1.027994  \n",
       "4     0.974865  1.003305  0.995351  0.967700  0.993727  1.008121  1.056099  \n",
       "...        ...       ...       ...       ...       ...       ...       ...  \n",
       "2516  0.758658  1.459324  0.833126  1.636329  0.862421  1.380986  1.699933  \n",
       "2517  0.763624  1.493288  0.827732  1.651191  0.870154  1.374157  1.680958  \n",
       "2518  0.768594  1.496365  0.824373  1.669955  0.865407  1.402016  1.680695  \n",
       "2519  0.750650  1.484546  0.825182  1.673583  0.861594  1.406829  1.662911  \n",
       "2520  0.743963  1.480564  0.825498  1.673727  0.862087  1.391887  1.664291  \n",
       "\n",
       "[2521 rows x 500 columns]"
      ]
     },
     "execution_count": 80,
     "metadata": {},
     "output_type": "execute_result"
    }
   ],
   "source": [
    "# Run the Monte Carlo simulation to forecast 10 years cumulative returns\n",
    "portfolio_10y_sim.calc_cumulative_return()"
   ]
  },
  {
   "cell_type": "code",
   "execution_count": 81,
   "metadata": {},
   "outputs": [
    {
     "data": {
      "image/png": "[encoded data removed]",
      "text/plain": [
       "<Figure size 432x288 with 1 Axes>"
      ]
     },
     "metadata": {
      "needs_background": "light"
     },
     "output_type": "display_data"
    }
   ],
   "source": [
    "# Visualize the 10-year Monte Carlo simulation by creating an\n",
    "# overlay line plot\n",
    "portfolio_sim_10y_plot = portfolio_10y_sim.plot_simulation()\n",
    "portfolio_sim_10y_plot.get_figure().savefig(\"./Images/MC_10year_sim_plot.png\", bbox_inches=\"tight\")"
   ]
  },
  {
   "cell_type": "code",
   "execution_count": 82,
   "metadata": {},
   "outputs": [
    {
     "data": {
      "image/png": "[encoded data removed]",
      "text/plain": [
       "<Figure size 432x288 with 1 Axes>"
      ]
     },
     "metadata": {
      "needs_background": "light"
     },
     "output_type": "display_data"
    }
   ],
   "source": [
    "# Visualize the probability distribution of the 10-year Monte Carlo simulation \n",
    "# by plotting a histogram\n",
    "pl_10y_dist = portfolio_10y_sim.plot_distribution()\n",
    "pl_10y_dist.get_figure().savefig(\"./Images/MC_10year_distribution_histogram_plot.png\", bbox_inches=\"tight\")"
   ]
  },
  {
   "cell_type": "code",
   "execution_count": 83,
   "metadata": {},
   "outputs": [
    {
     "data": {
      "text/plain": [
       "count           500.000000\n",
       "mean              2.116461\n",
       "std               1.497815\n",
       "min               0.292110\n",
       "25%               1.177087\n",
       "50%               1.776960\n",
       "75%               2.620462\n",
       "max              15.544230\n",
       "95% CI Lower      0.582736\n",
       "95% CI Upper      5.406615\n",
       "Name: 2520, dtype: float64"
      ]
     },
     "metadata": {},
     "output_type": "display_data"
    }
   ],
   "source": [
    "# Generate summary statistics from the 10-year Monte Carlo simulation results\n",
    "# Save the results as a variable\n",
    "tbl_10y_summary_stats = portfolio_10y_sim.summarize_cumulative_return()\n",
    "\n",
    "# Review the 10-year Monte Carlo summary statistics\n",
    "display(tbl_10y_summary_stats)"
   ]
  },
  {
   "cell_type": "code",
   "execution_count": 84,
   "metadata": {},
   "outputs": [
    {
     "data": {
      "text/plain": [
       "<AxesSubplot:>"
      ]
     },
     "execution_count": 84,
     "metadata": {},
     "output_type": "execute_result"
    },
    {
     "data": {
      "image/png": "[encoded data removed]",
      "text/plain": [
       "<Figure size 432x288 with 1 Axes>"
      ]
     },
     "metadata": {
      "needs_background": "light"
     },
     "output_type": "display_data"
    }
   ],
   "source": [
    "# Compute summary statistics from the simulated daily returns\n",
    "dic_10y_simulated_returns = {'mean' : list(portfolio_10y_sim.simulated_return.mean(axis=1)),\n",
    "                        'median': list(portfolio_10y_sim.simulated_return.median(axis=1)),\n",
    "                        'min' : list(portfolio_10y_sim.simulated_return.min(axis=1)),\n",
    "                        'max' : list(portfolio_10y_sim.simulated_return.max(axis=1))\n",
    "        }\n",
    "\n",
    "#Create a DataFrame with the summary statistics\n",
    "df_10y_simulated_returns = pd.DataFrame(dic_10y_simulated_returns)\n",
    "\n",
    "# Use the 'plot' function to create a chart of the simulated cumulative returns\n",
    "df_10y_simulated_returns.plot()"
   ]
  },
  {
   "cell_type": "markdown",
   "metadata": {},
   "source": [
    "### Answer the following questions:"
   ]
  },
  {
   "cell_type": "markdown",
   "metadata": {},
   "source": [
    "#### Question: Using the current value of only the stock and bond portion of the member's portfolio and the summary statistics that you generated from the new Monte Carlo simulation, what are the lower and upper bounds for the expected value of the portfolio (with the new weights) with a 95% confidence interval?"
   ]
  },
  {
   "cell_type": "code",
   "execution_count": 85,
   "metadata": {},
   "outputs": [
    {
     "name": "stdout",
     "output_type": "stream",
     "text": [
      " Current balance of the stock and bond portion of the portfolio is  60174.30\n"
     ]
    }
   ],
   "source": [
    "# Print the current balance of the stock and bond portion of the members portfolio\n",
    "print(f' Current balance of the stock and bond portion of the portfolio is {total_stocks_bonds: .2f}')"
   ]
  },
  {
   "cell_type": "code",
   "execution_count": 86,
   "metadata": {},
   "outputs": [
    {
     "name": "stdout",
     "output_type": "stream",
     "text": [
      " There is a 95% chance that over the next 10 years, the value of stock/bond portfolio will range from\n",
      " lower bound of $ 35065.75 to upper bound of $ 325339.26\n"
     ]
    }
   ],
   "source": [
    "# Use the lower and upper `95%` confidence intervals to calculate the range of the possible outcomes for the current stock/bond portfolio\n",
    "ci_lower_ten_cumulative_return = round(tbl_10y_summary_stats[8]*total_stocks_bonds,4)\n",
    "ci_upper_ten_cumulative_return = round(tbl_10y_summary_stats[9]*total_stocks_bonds,4)\n",
    "\n",
    "# Print the result of your calculations\n",
    "print(f' There is a 95% chance that over the next 10 years, the value of stock/bond portfolio will range from')\n",
    "print(f' lower bound of ${ci_lower_ten_cumulative_return: .2f} to upper bound of ${ci_upper_ten_cumulative_return: .2f}')\n"
   ]
  },
  {
   "cell_type": "markdown",
   "metadata": {},
   "source": [
    "#### Question: Will weighting the portfolio more heavily to stocks allow the credit union members to retire after only 10 years?"
   ]
  },
  {
   "cell_type": "raw",
   "metadata": {},
   "source": [
    "**Answer** # Weighting the portfolio more heavily to stocks does improve the potential upper bound of stock/bond portfolio for any given horizon. Therefore, it may allow the members to retire earlier (definitely earlier than if weighting is less towards stocks). Whether it will be 10 years, 15 years or 20 years will depend on portfolio value that members are targetting."
   ]
  },
  {
   "cell_type": "code",
   "execution_count": null,
   "metadata": {},
   "outputs": [],
   "source": []
  }
 ],
 "metadata": {
  "kernelspec": {
   "display_name": "Python 3 (ipykernel)",
   "language": "python",
   "name": "python3"
  },
  "language_info": {
   "codemirror_mode": {
    "name": "ipython",
    "version": 3
   },
   "file_extension": ".py",
   "mimetype": "text/x-python",
   "name": "python",
   "nbconvert_exporter": "python",
   "pygments_lexer": "ipython3",
   "version": "3.7.13"
  }
 },
 "nbformat": 4,
 "nbformat_minor": 4
}
